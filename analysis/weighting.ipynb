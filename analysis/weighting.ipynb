{
 "cells": [
  {
   "cell_type": "code",
   "execution_count": 2,
   "metadata": {},
   "outputs": [],
   "source": [
    "import sys\n",
    "sys.path.append(\"..\")"
   ]
  },
  {
   "cell_type": "code",
   "execution_count": 3,
   "metadata": {},
   "outputs": [],
   "source": [
    "import rioxarray\n",
    "import numpy as np\n",
    "import pandas as pd\n",
    "from sklearn.preprocessing import MinMaxScaler\n",
    "from src.utils import expand_grid"
   ]
  },
  {
   "cell_type": "code",
   "execution_count": 4,
   "metadata": {},
   "outputs": [],
   "source": [
    "# Load template to start merging\n",
    "\n",
    "template = rioxarray.open_rasterio(\n",
    "    \"/mnt/sherlock/oak/prescribed_data/geoms/templates/template.tif\"\n",
    ")\n",
    "\n",
    "# Notice template is 1 for land and 0 for water\n",
    "template_df = (\n",
    "    template.rename({\"x\": \"lon\", \"y\": \"lat\"})\n",
    "    .to_dataframe(name=\"id_template\")\n",
    "    .reset_index()\n",
    "    .dropna()\n",
    ")\n",
    "template_df[\"grid_id\"] = template_df.index\n",
    "\n",
    "# Remove the water pixels\n",
    "template_df = template_df[template_df.id_template == 1]\n",
    "\n",
    "# Create grid for all years in the sample\n",
    "template_expanded = expand_grid(\n",
    "    {\"grid_id\": template_df.grid_id, \"year\": np.arange(2000, 2023)}\n",
    ")\n",
    "\n",
    "# Add lat and lon to the expanded grid\n",
    "template_expanded = template_expanded.merge(\n",
    "    template_df[[\"grid_id\", \"lat\", \"lon\"]], on=\"grid_id\"\n",
    ")\n",
    "\n",
    "# Load treatments and MTBS data\n",
    "treatments = pd.read_feather(\n",
    "    \"/mnt/sherlock/oak/prescribed_data/processed/treatments_mtbs.feather\",\n",
    ").drop(columns=[\"spatial_ref\"])\n",
    "\n",
    "# Merge with template to clean treatments (they're full of water!)\n",
    "treatments = template_expanded.merge(treatments, on=[\"lat\", \"lon\", \"year\"], how=\"left\")\n",
    "\n",
    "# Create treatments columns (both wildifre and prescribed are 1!)\n",
    "treatments = treatments.assign(\n",
    "    treat=np.select(\n",
    "        [treatments[\"Event_ID\"] == \"nodata\", treatments[\"Event_ID\"].isna()],\n",
    "        [0, 0],\n",
    "        default=1,\n",
    "    ),\n",
    ")"
   ]
  },
  {
   "cell_type": "markdown",
   "metadata": {},
   "source": [
    "### Load covariates"
   ]
  },
  {
   "cell_type": "code",
   "execution_count": 5,
   "metadata": {},
   "outputs": [
    {
     "data": {
      "text/html": [
       "<div>\n",
       "<style scoped>\n",
       "    .dataframe tbody tr th:only-of-type {\n",
       "        vertical-align: middle;\n",
       "    }\n",
       "\n",
       "    .dataframe tbody tr th {\n",
       "        vertical-align: top;\n",
       "    }\n",
       "\n",
       "    .dataframe thead th {\n",
       "        text-align: right;\n",
       "    }\n",
       "</style>\n",
       "<table border=\"1\" class=\"dataframe\">\n",
       "  <thead>\n",
       "    <tr style=\"text-align: right;\">\n",
       "      <th></th>\n",
       "      <th>treat_2000</th>\n",
       "      <th>treat_2001</th>\n",
       "      <th>treat_2002</th>\n",
       "      <th>treat_2003</th>\n",
       "      <th>treat_2004</th>\n",
       "      <th>treat_2005</th>\n",
       "      <th>treat_2006</th>\n",
       "      <th>treat_2007</th>\n",
       "      <th>treat_2008</th>\n",
       "      <th>treat_2009</th>\n",
       "      <th>...</th>\n",
       "      <th>treat_2013</th>\n",
       "      <th>treat_2014</th>\n",
       "      <th>treat_2015</th>\n",
       "      <th>treat_2016</th>\n",
       "      <th>treat_2017</th>\n",
       "      <th>treat_2018</th>\n",
       "      <th>treat_2019</th>\n",
       "      <th>treat_2020</th>\n",
       "      <th>treat_2021</th>\n",
       "      <th>treat_2022</th>\n",
       "    </tr>\n",
       "    <tr>\n",
       "      <th>grid_id</th>\n",
       "      <th></th>\n",
       "      <th></th>\n",
       "      <th></th>\n",
       "      <th></th>\n",
       "      <th></th>\n",
       "      <th></th>\n",
       "      <th></th>\n",
       "      <th></th>\n",
       "      <th></th>\n",
       "      <th></th>\n",
       "      <th></th>\n",
       "      <th></th>\n",
       "      <th></th>\n",
       "      <th></th>\n",
       "      <th></th>\n",
       "      <th></th>\n",
       "      <th></th>\n",
       "      <th></th>\n",
       "      <th></th>\n",
       "      <th></th>\n",
       "      <th></th>\n",
       "    </tr>\n",
       "  </thead>\n",
       "  <tbody>\n",
       "    <tr>\n",
       "      <th>941</th>\n",
       "      <td>0</td>\n",
       "      <td>0</td>\n",
       "      <td>0</td>\n",
       "      <td>0</td>\n",
       "      <td>0</td>\n",
       "      <td>0</td>\n",
       "      <td>0</td>\n",
       "      <td>0</td>\n",
       "      <td>0</td>\n",
       "      <td>0</td>\n",
       "      <td>...</td>\n",
       "      <td>0</td>\n",
       "      <td>0</td>\n",
       "      <td>0</td>\n",
       "      <td>0</td>\n",
       "      <td>0</td>\n",
       "      <td>0</td>\n",
       "      <td>0</td>\n",
       "      <td>0</td>\n",
       "      <td>0</td>\n",
       "      <td>0</td>\n",
       "    </tr>\n",
       "    <tr>\n",
       "      <th>942</th>\n",
       "      <td>0</td>\n",
       "      <td>0</td>\n",
       "      <td>0</td>\n",
       "      <td>0</td>\n",
       "      <td>0</td>\n",
       "      <td>0</td>\n",
       "      <td>0</td>\n",
       "      <td>0</td>\n",
       "      <td>0</td>\n",
       "      <td>0</td>\n",
       "      <td>...</td>\n",
       "      <td>0</td>\n",
       "      <td>0</td>\n",
       "      <td>0</td>\n",
       "      <td>0</td>\n",
       "      <td>0</td>\n",
       "      <td>0</td>\n",
       "      <td>0</td>\n",
       "      <td>0</td>\n",
       "      <td>0</td>\n",
       "      <td>0</td>\n",
       "    </tr>\n",
       "    <tr>\n",
       "      <th>943</th>\n",
       "      <td>0</td>\n",
       "      <td>0</td>\n",
       "      <td>0</td>\n",
       "      <td>0</td>\n",
       "      <td>0</td>\n",
       "      <td>0</td>\n",
       "      <td>0</td>\n",
       "      <td>0</td>\n",
       "      <td>0</td>\n",
       "      <td>0</td>\n",
       "      <td>...</td>\n",
       "      <td>0</td>\n",
       "      <td>0</td>\n",
       "      <td>0</td>\n",
       "      <td>0</td>\n",
       "      <td>0</td>\n",
       "      <td>0</td>\n",
       "      <td>0</td>\n",
       "      <td>0</td>\n",
       "      <td>0</td>\n",
       "      <td>0</td>\n",
       "    </tr>\n",
       "    <tr>\n",
       "      <th>944</th>\n",
       "      <td>0</td>\n",
       "      <td>0</td>\n",
       "      <td>0</td>\n",
       "      <td>0</td>\n",
       "      <td>0</td>\n",
       "      <td>0</td>\n",
       "      <td>0</td>\n",
       "      <td>0</td>\n",
       "      <td>0</td>\n",
       "      <td>0</td>\n",
       "      <td>...</td>\n",
       "      <td>0</td>\n",
       "      <td>0</td>\n",
       "      <td>0</td>\n",
       "      <td>0</td>\n",
       "      <td>0</td>\n",
       "      <td>0</td>\n",
       "      <td>0</td>\n",
       "      <td>0</td>\n",
       "      <td>0</td>\n",
       "      <td>0</td>\n",
       "    </tr>\n",
       "    <tr>\n",
       "      <th>945</th>\n",
       "      <td>0</td>\n",
       "      <td>0</td>\n",
       "      <td>0</td>\n",
       "      <td>0</td>\n",
       "      <td>0</td>\n",
       "      <td>0</td>\n",
       "      <td>0</td>\n",
       "      <td>0</td>\n",
       "      <td>0</td>\n",
       "      <td>0</td>\n",
       "      <td>...</td>\n",
       "      <td>0</td>\n",
       "      <td>0</td>\n",
       "      <td>0</td>\n",
       "      <td>0</td>\n",
       "      <td>0</td>\n",
       "      <td>0</td>\n",
       "      <td>0</td>\n",
       "      <td>0</td>\n",
       "      <td>0</td>\n",
       "      <td>0</td>\n",
       "    </tr>\n",
       "    <tr>\n",
       "      <th>...</th>\n",
       "      <td>...</td>\n",
       "      <td>...</td>\n",
       "      <td>...</td>\n",
       "      <td>...</td>\n",
       "      <td>...</td>\n",
       "      <td>...</td>\n",
       "      <td>...</td>\n",
       "      <td>...</td>\n",
       "      <td>...</td>\n",
       "      <td>...</td>\n",
       "      <td>...</td>\n",
       "      <td>...</td>\n",
       "      <td>...</td>\n",
       "      <td>...</td>\n",
       "      <td>...</td>\n",
       "      <td>...</td>\n",
       "      <td>...</td>\n",
       "      <td>...</td>\n",
       "      <td>...</td>\n",
       "      <td>...</td>\n",
       "      <td>...</td>\n",
       "    </tr>\n",
       "    <tr>\n",
       "      <th>966112</th>\n",
       "      <td>0</td>\n",
       "      <td>0</td>\n",
       "      <td>0</td>\n",
       "      <td>0</td>\n",
       "      <td>0</td>\n",
       "      <td>0</td>\n",
       "      <td>0</td>\n",
       "      <td>0</td>\n",
       "      <td>0</td>\n",
       "      <td>0</td>\n",
       "      <td>...</td>\n",
       "      <td>0</td>\n",
       "      <td>0</td>\n",
       "      <td>0</td>\n",
       "      <td>0</td>\n",
       "      <td>0</td>\n",
       "      <td>0</td>\n",
       "      <td>0</td>\n",
       "      <td>0</td>\n",
       "      <td>0</td>\n",
       "      <td>0</td>\n",
       "    </tr>\n",
       "    <tr>\n",
       "      <th>966113</th>\n",
       "      <td>0</td>\n",
       "      <td>0</td>\n",
       "      <td>0</td>\n",
       "      <td>0</td>\n",
       "      <td>0</td>\n",
       "      <td>0</td>\n",
       "      <td>0</td>\n",
       "      <td>0</td>\n",
       "      <td>0</td>\n",
       "      <td>0</td>\n",
       "      <td>...</td>\n",
       "      <td>0</td>\n",
       "      <td>0</td>\n",
       "      <td>0</td>\n",
       "      <td>0</td>\n",
       "      <td>0</td>\n",
       "      <td>0</td>\n",
       "      <td>0</td>\n",
       "      <td>0</td>\n",
       "      <td>0</td>\n",
       "      <td>0</td>\n",
       "    </tr>\n",
       "    <tr>\n",
       "      <th>966114</th>\n",
       "      <td>0</td>\n",
       "      <td>0</td>\n",
       "      <td>0</td>\n",
       "      <td>0</td>\n",
       "      <td>0</td>\n",
       "      <td>0</td>\n",
       "      <td>0</td>\n",
       "      <td>0</td>\n",
       "      <td>0</td>\n",
       "      <td>0</td>\n",
       "      <td>...</td>\n",
       "      <td>0</td>\n",
       "      <td>0</td>\n",
       "      <td>0</td>\n",
       "      <td>0</td>\n",
       "      <td>0</td>\n",
       "      <td>0</td>\n",
       "      <td>0</td>\n",
       "      <td>0</td>\n",
       "      <td>0</td>\n",
       "      <td>0</td>\n",
       "    </tr>\n",
       "    <tr>\n",
       "      <th>966115</th>\n",
       "      <td>0</td>\n",
       "      <td>0</td>\n",
       "      <td>0</td>\n",
       "      <td>0</td>\n",
       "      <td>0</td>\n",
       "      <td>0</td>\n",
       "      <td>0</td>\n",
       "      <td>0</td>\n",
       "      <td>0</td>\n",
       "      <td>0</td>\n",
       "      <td>...</td>\n",
       "      <td>0</td>\n",
       "      <td>0</td>\n",
       "      <td>0</td>\n",
       "      <td>0</td>\n",
       "      <td>0</td>\n",
       "      <td>0</td>\n",
       "      <td>0</td>\n",
       "      <td>0</td>\n",
       "      <td>0</td>\n",
       "      <td>0</td>\n",
       "    </tr>\n",
       "    <tr>\n",
       "      <th>966116</th>\n",
       "      <td>0</td>\n",
       "      <td>0</td>\n",
       "      <td>0</td>\n",
       "      <td>0</td>\n",
       "      <td>0</td>\n",
       "      <td>0</td>\n",
       "      <td>0</td>\n",
       "      <td>0</td>\n",
       "      <td>0</td>\n",
       "      <td>0</td>\n",
       "      <td>...</td>\n",
       "      <td>0</td>\n",
       "      <td>0</td>\n",
       "      <td>0</td>\n",
       "      <td>0</td>\n",
       "      <td>0</td>\n",
       "      <td>0</td>\n",
       "      <td>0</td>\n",
       "      <td>0</td>\n",
       "      <td>0</td>\n",
       "      <td>0</td>\n",
       "    </tr>\n",
       "  </tbody>\n",
       "</table>\n",
       "<p>409622 rows × 23 columns</p>\n",
       "</div>"
      ],
      "text/plain": [
       "         treat_2000  treat_2001  treat_2002  treat_2003  treat_2004  \\\n",
       "grid_id                                                               \n",
       "941               0           0           0           0           0   \n",
       "942               0           0           0           0           0   \n",
       "943               0           0           0           0           0   \n",
       "944               0           0           0           0           0   \n",
       "945               0           0           0           0           0   \n",
       "...             ...         ...         ...         ...         ...   \n",
       "966112            0           0           0           0           0   \n",
       "966113            0           0           0           0           0   \n",
       "966114            0           0           0           0           0   \n",
       "966115            0           0           0           0           0   \n",
       "966116            0           0           0           0           0   \n",
       "\n",
       "         treat_2005  treat_2006  treat_2007  treat_2008  treat_2009  ...  \\\n",
       "grid_id                                                              ...   \n",
       "941               0           0           0           0           0  ...   \n",
       "942               0           0           0           0           0  ...   \n",
       "943               0           0           0           0           0  ...   \n",
       "944               0           0           0           0           0  ...   \n",
       "945               0           0           0           0           0  ...   \n",
       "...             ...         ...         ...         ...         ...  ...   \n",
       "966112            0           0           0           0           0  ...   \n",
       "966113            0           0           0           0           0  ...   \n",
       "966114            0           0           0           0           0  ...   \n",
       "966115            0           0           0           0           0  ...   \n",
       "966116            0           0           0           0           0  ...   \n",
       "\n",
       "         treat_2013  treat_2014  treat_2015  treat_2016  treat_2017  \\\n",
       "grid_id                                                               \n",
       "941               0           0           0           0           0   \n",
       "942               0           0           0           0           0   \n",
       "943               0           0           0           0           0   \n",
       "944               0           0           0           0           0   \n",
       "945               0           0           0           0           0   \n",
       "...             ...         ...         ...         ...         ...   \n",
       "966112            0           0           0           0           0   \n",
       "966113            0           0           0           0           0   \n",
       "966114            0           0           0           0           0   \n",
       "966115            0           0           0           0           0   \n",
       "966116            0           0           0           0           0   \n",
       "\n",
       "         treat_2018  treat_2019  treat_2020  treat_2021  treat_2022  \n",
       "grid_id                                                              \n",
       "941               0           0           0           0           0  \n",
       "942               0           0           0           0           0  \n",
       "943               0           0           0           0           0  \n",
       "944               0           0           0           0           0  \n",
       "945               0           0           0           0           0  \n",
       "...             ...         ...         ...         ...         ...  \n",
       "966112            0           0           0           0           0  \n",
       "966113            0           0           0           0           0  \n",
       "966114            0           0           0           0           0  \n",
       "966115            0           0           0           0           0  \n",
       "966116            0           0           0           0           0  \n",
       "\n",
       "[409622 rows x 23 columns]"
      ]
     },
     "execution_count": 5,
     "metadata": {},
     "output_type": "execute_result"
    }
   ],
   "source": [
    "treats_wide = pd.pivot(treatments, index=\"grid_id\", columns=\"year\", values=\"treat\")\n",
    "treats_wide.columns = [f\"treat_{col}\" for col in treats_wide.columns]\n",
    "treas_wide = treats_wide.reset_index()\n",
    "treats_wide"
   ]
  },
  {
   "cell_type": "code",
   "execution_count": 6,
   "metadata": {},
   "outputs": [
    {
     "ename": "NameError",
     "evalue": "name 'data' is not defined",
     "output_type": "error",
     "traceback": [
      "\u001b[0;31m---------------------------------------------------------------------------\u001b[0m",
      "\u001b[0;31mNameError\u001b[0m                                 Traceback (most recent call last)",
      "Cell \u001b[0;32mIn[6], line 5\u001b[0m\n\u001b[1;32m      3\u001b[0m fig, ax \u001b[38;5;241m=\u001b[39m plt\u001b[38;5;241m.\u001b[39msubplots(figsize\u001b[38;5;241m=\u001b[39m(\u001b[38;5;241m50\u001b[39m, \u001b[38;5;241m50\u001b[39m))\n\u001b[1;32m      4\u001b[0m plt\u001b[38;5;241m.\u001b[39mplot(template_df\u001b[38;5;241m.\u001b[39mlon, template_df\u001b[38;5;241m.\u001b[39mlat, \u001b[38;5;124m\"\u001b[39m\u001b[38;5;124m,\u001b[39m\u001b[38;5;124m\"\u001b[39m, alpha\u001b[38;5;241m=\u001b[39m\u001b[38;5;241m0.9\u001b[39m)\n\u001b[0;32m----> 5\u001b[0m plt\u001b[38;5;241m.\u001b[39mplot(\u001b[43mdata\u001b[49m[\u001b[38;5;241m0\u001b[39m]\u001b[38;5;241m.\u001b[39mlon, data[\u001b[38;5;241m0\u001b[39m]\u001b[38;5;241m.\u001b[39mlat, \u001b[38;5;124m\"\u001b[39m\u001b[38;5;124m,\u001b[39m\u001b[38;5;124m\"\u001b[39m)\n",
      "\u001b[0;31mNameError\u001b[0m: name 'data' is not defined"
     ]
    },
    {
     "data": {
      "image/png": "[encoded data removed]",
      "text/plain": [
       "<Figure size 5000x5000 with 1 Axes>"
      ]
     },
     "metadata": {},
     "output_type": "display_data"
    }
   ],
   "source": [
    "import matplotlib.pyplot as plt\n",
    "\n",
    "fig, ax = plt.subplots(figsize=(50, 50))\n",
    "plt.plot(template_df.lon, template_df.lat, \",\", alpha=0.9)\n",
    "plt.plot(data[0].lon, data[0].lat, \",\")"
   ]
  },
  {
   "cell_type": "code",
   "execution_count": 7,
   "metadata": {},
   "outputs": [],
   "source": [
    "dict_paths = {\n",
    "    \"prism\": \"/mnt/sherlock/oak/prescribed_data/processed/prism.feather\",\n",
    "    \"disturbances\": \"/mnt/sherlock/oak/prescribed_data/processed/disturbances.feather\",\n",
    "    \"dem\": \"/mnt/sherlock/oak/prescribed_data/processed/dem.feather\",\n",
    "    \"frp\": \"/mnt/sherlock/oak/prescribed_data/processed/frp_concat.feather\",\n",
    "}\n",
    "\n",
    "# Load datasets and merge with template\n",
    "data = []\n",
    "for key, path in dict_paths.items():\n",
    "    if key != \"frp\":\n",
    "        df = pd.read_feather(path)\n",
    "        df = df.drop(columns = [\"lat\", \"lon\"])\n",
    "        data.append(df)"
   ]
  },
  {
   "cell_type": "code",
   "execution_count": 8,
   "metadata": {},
   "outputs": [],
   "source": [
    "from functools import reduce\n",
    "df = reduce(lambda x, y: x.merge(y, on='grid_id', how=\"left\"), data)\n",
    "df = df.merge(treas_wide, on=\"grid_id\")"
   ]
  },
  {
   "cell_type": "code",
   "execution_count": 9,
   "metadata": {},
   "outputs": [
    {
     "data": {
      "text/html": [
       "<div>\n",
       "<style scoped>\n",
       "    .dataframe tbody tr th:only-of-type {\n",
       "        vertical-align: middle;\n",
       "    }\n",
       "\n",
       "    .dataframe tbody tr th {\n",
       "        vertical-align: top;\n",
       "    }\n",
       "\n",
       "    .dataframe thead th {\n",
       "        text-align: right;\n",
       "    }\n",
       "</style>\n",
       "<table border=\"1\" class=\"dataframe\">\n",
       "  <thead>\n",
       "    <tr style=\"text-align: right;\">\n",
       "      <th></th>\n",
       "      <th>tmin_1988_01</th>\n",
       "      <th>tmin_1988_02</th>\n",
       "      <th>tmin_1988_03</th>\n",
       "      <th>tmin_1988_04</th>\n",
       "      <th>tmin_1988_05</th>\n",
       "      <th>tmin_1988_06</th>\n",
       "      <th>tmin_1988_07</th>\n",
       "      <th>tmin_1988_08</th>\n",
       "      <th>tmin_1988_09</th>\n",
       "      <th>tmin_1988_10</th>\n",
       "      <th>...</th>\n",
       "      <th>treat_2013</th>\n",
       "      <th>treat_2014</th>\n",
       "      <th>treat_2015</th>\n",
       "      <th>treat_2016</th>\n",
       "      <th>treat_2017</th>\n",
       "      <th>treat_2018</th>\n",
       "      <th>treat_2019</th>\n",
       "      <th>treat_2020</th>\n",
       "      <th>treat_2021</th>\n",
       "      <th>treat_2022</th>\n",
       "    </tr>\n",
       "  </thead>\n",
       "  <tbody>\n",
       "    <tr>\n",
       "      <th>0</th>\n",
       "      <td>7.567340</td>\n",
       "      <td>8.839235</td>\n",
       "      <td>10.208706</td>\n",
       "      <td>11.886081</td>\n",
       "      <td>13.451753</td>\n",
       "      <td>14.353240</td>\n",
       "      <td>18.000628</td>\n",
       "      <td>18.200863</td>\n",
       "      <td>16.801078</td>\n",
       "      <td>15.581539</td>\n",
       "      <td>...</td>\n",
       "      <td>0</td>\n",
       "      <td>0</td>\n",
       "      <td>0</td>\n",
       "      <td>0</td>\n",
       "      <td>0</td>\n",
       "      <td>0</td>\n",
       "      <td>0</td>\n",
       "      <td>0</td>\n",
       "      <td>0</td>\n",
       "      <td>0</td>\n",
       "    </tr>\n",
       "    <tr>\n",
       "      <th>1</th>\n",
       "      <td>7.386305</td>\n",
       "      <td>8.646471</td>\n",
       "      <td>10.020022</td>\n",
       "      <td>11.693062</td>\n",
       "      <td>13.282957</td>\n",
       "      <td>14.195154</td>\n",
       "      <td>17.876198</td>\n",
       "      <td>18.078473</td>\n",
       "      <td>16.639421</td>\n",
       "      <td>15.452010</td>\n",
       "      <td>...</td>\n",
       "      <td>0</td>\n",
       "      <td>0</td>\n",
       "      <td>0</td>\n",
       "      <td>0</td>\n",
       "      <td>0</td>\n",
       "      <td>0</td>\n",
       "      <td>0</td>\n",
       "      <td>0</td>\n",
       "      <td>0</td>\n",
       "      <td>0</td>\n",
       "    </tr>\n",
       "    <tr>\n",
       "      <th>2</th>\n",
       "      <td>7.205270</td>\n",
       "      <td>8.453707</td>\n",
       "      <td>9.831338</td>\n",
       "      <td>11.500043</td>\n",
       "      <td>13.114162</td>\n",
       "      <td>14.037067</td>\n",
       "      <td>17.751768</td>\n",
       "      <td>17.956084</td>\n",
       "      <td>16.477765</td>\n",
       "      <td>15.322481</td>\n",
       "      <td>...</td>\n",
       "      <td>0</td>\n",
       "      <td>0</td>\n",
       "      <td>0</td>\n",
       "      <td>0</td>\n",
       "      <td>0</td>\n",
       "      <td>0</td>\n",
       "      <td>0</td>\n",
       "      <td>0</td>\n",
       "      <td>0</td>\n",
       "      <td>0</td>\n",
       "    </tr>\n",
       "    <tr>\n",
       "      <th>3</th>\n",
       "      <td>7.024235</td>\n",
       "      <td>8.260943</td>\n",
       "      <td>9.642654</td>\n",
       "      <td>11.307024</td>\n",
       "      <td>12.945366</td>\n",
       "      <td>13.878981</td>\n",
       "      <td>17.627339</td>\n",
       "      <td>17.833694</td>\n",
       "      <td>16.316108</td>\n",
       "      <td>15.192952</td>\n",
       "      <td>...</td>\n",
       "      <td>0</td>\n",
       "      <td>0</td>\n",
       "      <td>0</td>\n",
       "      <td>0</td>\n",
       "      <td>0</td>\n",
       "      <td>0</td>\n",
       "      <td>0</td>\n",
       "      <td>0</td>\n",
       "      <td>0</td>\n",
       "      <td>0</td>\n",
       "    </tr>\n",
       "    <tr>\n",
       "      <th>4</th>\n",
       "      <td>6.942066</td>\n",
       "      <td>8.168091</td>\n",
       "      <td>9.547778</td>\n",
       "      <td>11.240595</td>\n",
       "      <td>12.892000</td>\n",
       "      <td>13.833011</td>\n",
       "      <td>17.587476</td>\n",
       "      <td>17.794826</td>\n",
       "      <td>16.266569</td>\n",
       "      <td>15.140841</td>\n",
       "      <td>...</td>\n",
       "      <td>0</td>\n",
       "      <td>0</td>\n",
       "      <td>0</td>\n",
       "      <td>0</td>\n",
       "      <td>0</td>\n",
       "      <td>0</td>\n",
       "      <td>0</td>\n",
       "      <td>0</td>\n",
       "      <td>0</td>\n",
       "      <td>0</td>\n",
       "    </tr>\n",
       "    <tr>\n",
       "      <th>...</th>\n",
       "      <td>...</td>\n",
       "      <td>...</td>\n",
       "      <td>...</td>\n",
       "      <td>...</td>\n",
       "      <td>...</td>\n",
       "      <td>...</td>\n",
       "      <td>...</td>\n",
       "      <td>...</td>\n",
       "      <td>...</td>\n",
       "      <td>...</td>\n",
       "      <td>...</td>\n",
       "      <td>...</td>\n",
       "      <td>...</td>\n",
       "      <td>...</td>\n",
       "      <td>...</td>\n",
       "      <td>...</td>\n",
       "      <td>...</td>\n",
       "      <td>...</td>\n",
       "      <td>...</td>\n",
       "      <td>...</td>\n",
       "      <td>...</td>\n",
       "    </tr>\n",
       "    <tr>\n",
       "      <th>406718</th>\n",
       "      <td>0.253392</td>\n",
       "      <td>2.746646</td>\n",
       "      <td>1.034052</td>\n",
       "      <td>3.924154</td>\n",
       "      <td>3.944022</td>\n",
       "      <td>7.219834</td>\n",
       "      <td>10.781526</td>\n",
       "      <td>9.899816</td>\n",
       "      <td>8.864880</td>\n",
       "      <td>8.386296</td>\n",
       "      <td>...</td>\n",
       "      <td>0</td>\n",
       "      <td>0</td>\n",
       "      <td>0</td>\n",
       "      <td>0</td>\n",
       "      <td>0</td>\n",
       "      <td>0</td>\n",
       "      <td>0</td>\n",
       "      <td>0</td>\n",
       "      <td>0</td>\n",
       "      <td>0</td>\n",
       "    </tr>\n",
       "    <tr>\n",
       "      <th>406719</th>\n",
       "      <td>-0.184423</td>\n",
       "      <td>2.467034</td>\n",
       "      <td>0.796014</td>\n",
       "      <td>3.681509</td>\n",
       "      <td>3.670215</td>\n",
       "      <td>6.966671</td>\n",
       "      <td>10.701724</td>\n",
       "      <td>9.778495</td>\n",
       "      <td>8.590633</td>\n",
       "      <td>8.020198</td>\n",
       "      <td>...</td>\n",
       "      <td>0</td>\n",
       "      <td>0</td>\n",
       "      <td>0</td>\n",
       "      <td>0</td>\n",
       "      <td>0</td>\n",
       "      <td>0</td>\n",
       "      <td>0</td>\n",
       "      <td>0</td>\n",
       "      <td>0</td>\n",
       "      <td>0</td>\n",
       "    </tr>\n",
       "    <tr>\n",
       "      <th>406720</th>\n",
       "      <td>-0.396410</td>\n",
       "      <td>2.075984</td>\n",
       "      <td>0.620706</td>\n",
       "      <td>3.536526</td>\n",
       "      <td>3.577218</td>\n",
       "      <td>6.883493</td>\n",
       "      <td>10.463744</td>\n",
       "      <td>9.451273</td>\n",
       "      <td>8.034960</td>\n",
       "      <td>7.502071</td>\n",
       "      <td>...</td>\n",
       "      <td>0</td>\n",
       "      <td>0</td>\n",
       "      <td>0</td>\n",
       "      <td>0</td>\n",
       "      <td>0</td>\n",
       "      <td>0</td>\n",
       "      <td>0</td>\n",
       "      <td>0</td>\n",
       "      <td>0</td>\n",
       "      <td>0</td>\n",
       "    </tr>\n",
       "    <tr>\n",
       "      <th>406721</th>\n",
       "      <td>-0.608397</td>\n",
       "      <td>1.684934</td>\n",
       "      <td>0.445397</td>\n",
       "      <td>3.391543</td>\n",
       "      <td>3.484221</td>\n",
       "      <td>6.800315</td>\n",
       "      <td>10.225764</td>\n",
       "      <td>9.124050</td>\n",
       "      <td>7.479288</td>\n",
       "      <td>6.983944</td>\n",
       "      <td>...</td>\n",
       "      <td>0</td>\n",
       "      <td>0</td>\n",
       "      <td>0</td>\n",
       "      <td>0</td>\n",
       "      <td>0</td>\n",
       "      <td>0</td>\n",
       "      <td>0</td>\n",
       "      <td>0</td>\n",
       "      <td>0</td>\n",
       "      <td>0</td>\n",
       "    </tr>\n",
       "    <tr>\n",
       "      <th>406722</th>\n",
       "      <td>-0.820385</td>\n",
       "      <td>1.293884</td>\n",
       "      <td>0.270089</td>\n",
       "      <td>3.246560</td>\n",
       "      <td>3.391224</td>\n",
       "      <td>6.717138</td>\n",
       "      <td>9.987784</td>\n",
       "      <td>8.796827</td>\n",
       "      <td>6.923616</td>\n",
       "      <td>6.465817</td>\n",
       "      <td>...</td>\n",
       "      <td>0</td>\n",
       "      <td>0</td>\n",
       "      <td>0</td>\n",
       "      <td>0</td>\n",
       "      <td>0</td>\n",
       "      <td>0</td>\n",
       "      <td>0</td>\n",
       "      <td>0</td>\n",
       "      <td>0</td>\n",
       "      <td>0</td>\n",
       "    </tr>\n",
       "  </tbody>\n",
       "</table>\n",
       "<p>406723 rows × 2921 columns</p>\n",
       "</div>"
      ],
      "text/plain": [
       "        tmin_1988_01  tmin_1988_02  tmin_1988_03  tmin_1988_04  tmin_1988_05  \\\n",
       "0           7.567340      8.839235     10.208706     11.886081     13.451753   \n",
       "1           7.386305      8.646471     10.020022     11.693062     13.282957   \n",
       "2           7.205270      8.453707      9.831338     11.500043     13.114162   \n",
       "3           7.024235      8.260943      9.642654     11.307024     12.945366   \n",
       "4           6.942066      8.168091      9.547778     11.240595     12.892000   \n",
       "...              ...           ...           ...           ...           ...   \n",
       "406718      0.253392      2.746646      1.034052      3.924154      3.944022   \n",
       "406719     -0.184423      2.467034      0.796014      3.681509      3.670215   \n",
       "406720     -0.396410      2.075984      0.620706      3.536526      3.577218   \n",
       "406721     -0.608397      1.684934      0.445397      3.391543      3.484221   \n",
       "406722     -0.820385      1.293884      0.270089      3.246560      3.391224   \n",
       "\n",
       "        tmin_1988_06  tmin_1988_07  tmin_1988_08  tmin_1988_09  tmin_1988_10  \\\n",
       "0          14.353240     18.000628     18.200863     16.801078     15.581539   \n",
       "1          14.195154     17.876198     18.078473     16.639421     15.452010   \n",
       "2          14.037067     17.751768     17.956084     16.477765     15.322481   \n",
       "3          13.878981     17.627339     17.833694     16.316108     15.192952   \n",
       "4          13.833011     17.587476     17.794826     16.266569     15.140841   \n",
       "...              ...           ...           ...           ...           ...   \n",
       "406718      7.219834     10.781526      9.899816      8.864880      8.386296   \n",
       "406719      6.966671     10.701724      9.778495      8.590633      8.020198   \n",
       "406720      6.883493     10.463744      9.451273      8.034960      7.502071   \n",
       "406721      6.800315     10.225764      9.124050      7.479288      6.983944   \n",
       "406722      6.717138      9.987784      8.796827      6.923616      6.465817   \n",
       "\n",
       "        ...  treat_2013  treat_2014  treat_2015  treat_2016  treat_2017  \\\n",
       "0       ...           0           0           0           0           0   \n",
       "1       ...           0           0           0           0           0   \n",
       "2       ...           0           0           0           0           0   \n",
       "3       ...           0           0           0           0           0   \n",
       "4       ...           0           0           0           0           0   \n",
       "...     ...         ...         ...         ...         ...         ...   \n",
       "406718  ...           0           0           0           0           0   \n",
       "406719  ...           0           0           0           0           0   \n",
       "406720  ...           0           0           0           0           0   \n",
       "406721  ...           0           0           0           0           0   \n",
       "406722  ...           0           0           0           0           0   \n",
       "\n",
       "        treat_2018  treat_2019  treat_2020  treat_2021  treat_2022  \n",
       "0                0           0           0           0           0  \n",
       "1                0           0           0           0           0  \n",
       "2                0           0           0           0           0  \n",
       "3                0           0           0           0           0  \n",
       "4                0           0           0           0           0  \n",
       "...            ...         ...         ...         ...         ...  \n",
       "406718           0           0           0           0           0  \n",
       "406719           0           0           0           0           0  \n",
       "406720           0           0           0           0           0  \n",
       "406721           0           0           0           0           0  \n",
       "406722           0           0           0           0           0  \n",
       "\n",
       "[406723 rows x 2921 columns]"
      ]
     },
     "execution_count": 9,
     "metadata": {},
     "output_type": "execute_result"
    }
   ],
   "source": [
    "df"
   ]
  },
  {
   "cell_type": "markdown",
   "metadata": {},
   "source": [
    "### Test balancing"
   ]
  },
  {
   "cell_type": "code",
   "execution_count": 10,
   "metadata": {},
   "outputs": [],
   "source": [
    "# Focal year 2008\n",
    "import re\n",
    "cols_remove = [col for col in df.columns.tolist() if \n",
    "    re.search(r\"\\d+\", col) and int(re.findall(r\"\\d+\", col)[0]) < 2000]\n",
    "df_subset = df.drop(columns=cols_remove)\n",
    "del(df)"
   ]
  },
  {
   "cell_type": "code",
   "execution_count": 23,
   "metadata": {},
   "outputs": [],
   "source": [
    "# Focal year 2008\n",
    "cols_remove = [col for col in df_subset.columns.tolist() if \n",
    "    re.search(r\"\\d+\", col) and int(re.findall(r\"\\d+\", col)[0]) > 2008]\n",
    "df_subset = df_subset.drop(columns=cols_remove)\n",
    "\n",
    "df_subset = df_subset.dropna()"
   ]
  },
  {
   "cell_type": "code",
   "execution_count": 24,
   "metadata": {},
   "outputs": [],
   "source": [
    "w = df_subset.treat_2008.values\n",
    "X = df_subset.drop(columns=[col for col in df_subset.columns if \"treat\" in col]).values\n",
    "X = MinMaxScaler().fit_transform(X)"
   ]
  },
  {
   "cell_type": "code",
   "execution_count": 58,
   "metadata": {},
   "outputs": [
    {
     "data": {
      "text/plain": [
       "[<matplotlib.lines.Line2D at 0x7f21555b7790>]"
      ]
     },
     "execution_count": 58,
     "metadata": {},
     "output_type": "execute_result"
    },
    {
     "data": {
      "image/png": "[encoded data removed]",
      "text/plain": [
       "<Figure size 640x480 with 1 Axes>"
      ]
     },
     "metadata": {},
     "output_type": "display_data"
    }
   ],
   "source": [
    "plt.plot(\n",
    "template_df[template_df.grid_id.isin(df_subset[\"grid_id\"].tolist())][\"lon\"],\n",
    "template_df[template_df.grid_id.isin(df_subset[\"grid_id\"].tolist())][\"lat\"],\n",
    ")\n",
    "# plt.plot(\n",
    "#     template_df.lon,\n",
    "#     template_df.lat,\n",
    "# )\n"
   ]
  },
  {
   "cell_type": "code",
   "execution_count": 59,
   "metadata": {},
   "outputs": [
    {
     "data": {
      "text/html": [
       "<div>\n",
       "<style scoped>\n",
       "    .dataframe tbody tr th:only-of-type {\n",
       "        vertical-align: middle;\n",
       "    }\n",
       "\n",
       "    .dataframe tbody tr th {\n",
       "        vertical-align: top;\n",
       "    }\n",
       "\n",
       "    .dataframe thead th {\n",
       "        text-align: right;\n",
       "    }\n",
       "</style>\n",
       "<table border=\"1\" class=\"dataframe\">\n",
       "  <thead>\n",
       "    <tr style=\"text-align: right;\">\n",
       "      <th></th>\n",
       "      <th>tmin_2000_01</th>\n",
       "      <th>tmin_2000_02</th>\n",
       "      <th>tmin_2000_03</th>\n",
       "      <th>tmin_2000_04</th>\n",
       "      <th>tmin_2000_05</th>\n",
       "      <th>tmin_2000_06</th>\n",
       "      <th>tmin_2000_07</th>\n",
       "      <th>tmin_2000_08</th>\n",
       "      <th>tmin_2000_09</th>\n",
       "      <th>tmin_2000_10</th>\n",
       "      <th>...</th>\n",
       "      <th>aspect</th>\n",
       "      <th>treat_2000</th>\n",
       "      <th>treat_2001</th>\n",
       "      <th>treat_2002</th>\n",
       "      <th>treat_2003</th>\n",
       "      <th>treat_2004</th>\n",
       "      <th>treat_2005</th>\n",
       "      <th>treat_2006</th>\n",
       "      <th>treat_2007</th>\n",
       "      <th>treat_2008</th>\n",
       "    </tr>\n",
       "  </thead>\n",
       "  <tbody>\n",
       "    <tr>\n",
       "      <th>9</th>\n",
       "      <td>8.675816</td>\n",
       "      <td>10.219345</td>\n",
       "      <td>9.731707</td>\n",
       "      <td>12.180506</td>\n",
       "      <td>14.490682</td>\n",
       "      <td>16.230926</td>\n",
       "      <td>16.913616</td>\n",
       "      <td>18.413110</td>\n",
       "      <td>16.969744</td>\n",
       "      <td>14.131212</td>\n",
       "      <td>...</td>\n",
       "      <td>316.839905</td>\n",
       "      <td>0</td>\n",
       "      <td>0</td>\n",
       "      <td>0</td>\n",
       "      <td>0</td>\n",
       "      <td>0</td>\n",
       "      <td>0</td>\n",
       "      <td>0</td>\n",
       "      <td>0</td>\n",
       "      <td>0</td>\n",
       "    </tr>\n",
       "    <tr>\n",
       "      <th>12</th>\n",
       "      <td>8.144152</td>\n",
       "      <td>9.759753</td>\n",
       "      <td>9.178896</td>\n",
       "      <td>11.747844</td>\n",
       "      <td>14.075211</td>\n",
       "      <td>15.906640</td>\n",
       "      <td>16.531920</td>\n",
       "      <td>18.077907</td>\n",
       "      <td>16.631799</td>\n",
       "      <td>13.807841</td>\n",
       "      <td>...</td>\n",
       "      <td>5.109946</td>\n",
       "      <td>0</td>\n",
       "      <td>0</td>\n",
       "      <td>0</td>\n",
       "      <td>0</td>\n",
       "      <td>0</td>\n",
       "      <td>0</td>\n",
       "      <td>0</td>\n",
       "      <td>0</td>\n",
       "      <td>0</td>\n",
       "    </tr>\n",
       "    <tr>\n",
       "      <th>13</th>\n",
       "      <td>8.105558</td>\n",
       "      <td>9.720821</td>\n",
       "      <td>9.159455</td>\n",
       "      <td>11.721721</td>\n",
       "      <td>14.078178</td>\n",
       "      <td>15.900729</td>\n",
       "      <td>16.500637</td>\n",
       "      <td>18.065376</td>\n",
       "      <td>16.612883</td>\n",
       "      <td>13.788348</td>\n",
       "      <td>...</td>\n",
       "      <td>18.281784</td>\n",
       "      <td>0</td>\n",
       "      <td>0</td>\n",
       "      <td>0</td>\n",
       "      <td>0</td>\n",
       "      <td>0</td>\n",
       "      <td>0</td>\n",
       "      <td>0</td>\n",
       "      <td>0</td>\n",
       "      <td>0</td>\n",
       "    </tr>\n",
       "    <tr>\n",
       "      <th>25</th>\n",
       "      <td>8.489559</td>\n",
       "      <td>10.073552</td>\n",
       "      <td>9.580560</td>\n",
       "      <td>12.055531</td>\n",
       "      <td>14.382141</td>\n",
       "      <td>16.145022</td>\n",
       "      <td>16.830786</td>\n",
       "      <td>18.314841</td>\n",
       "      <td>16.877583</td>\n",
       "      <td>14.013923</td>\n",
       "      <td>...</td>\n",
       "      <td>328.015411</td>\n",
       "      <td>0</td>\n",
       "      <td>0</td>\n",
       "      <td>0</td>\n",
       "      <td>0</td>\n",
       "      <td>0</td>\n",
       "      <td>0</td>\n",
       "      <td>0</td>\n",
       "      <td>0</td>\n",
       "      <td>0</td>\n",
       "    </tr>\n",
       "    <tr>\n",
       "      <th>26</th>\n",
       "      <td>8.286108</td>\n",
       "      <td>9.899659</td>\n",
       "      <td>9.365999</td>\n",
       "      <td>11.886550</td>\n",
       "      <td>14.214337</td>\n",
       "      <td>16.018683</td>\n",
       "      <td>16.688502</td>\n",
       "      <td>18.184488</td>\n",
       "      <td>16.742595</td>\n",
       "      <td>13.885365</td>\n",
       "      <td>...</td>\n",
       "      <td>352.953552</td>\n",
       "      <td>0</td>\n",
       "      <td>0</td>\n",
       "      <td>0</td>\n",
       "      <td>0</td>\n",
       "      <td>0</td>\n",
       "      <td>0</td>\n",
       "      <td>0</td>\n",
       "      <td>0</td>\n",
       "      <td>0</td>\n",
       "    </tr>\n",
       "    <tr>\n",
       "      <th>...</th>\n",
       "      <td>...</td>\n",
       "      <td>...</td>\n",
       "      <td>...</td>\n",
       "      <td>...</td>\n",
       "      <td>...</td>\n",
       "      <td>...</td>\n",
       "      <td>...</td>\n",
       "      <td>...</td>\n",
       "      <td>...</td>\n",
       "      <td>...</td>\n",
       "      <td>...</td>\n",
       "      <td>...</td>\n",
       "      <td>...</td>\n",
       "      <td>...</td>\n",
       "      <td>...</td>\n",
       "      <td>...</td>\n",
       "      <td>...</td>\n",
       "      <td>...</td>\n",
       "      <td>...</td>\n",
       "      <td>...</td>\n",
       "      <td>...</td>\n",
       "    </tr>\n",
       "    <tr>\n",
       "      <th>406708</th>\n",
       "      <td>3.598752</td>\n",
       "      <td>5.177238</td>\n",
       "      <td>3.126388</td>\n",
       "      <td>6.295009</td>\n",
       "      <td>7.461285</td>\n",
       "      <td>10.657983</td>\n",
       "      <td>10.246043</td>\n",
       "      <td>10.319505</td>\n",
       "      <td>10.910593</td>\n",
       "      <td>7.972889</td>\n",
       "      <td>...</td>\n",
       "      <td>345.271362</td>\n",
       "      <td>0</td>\n",
       "      <td>0</td>\n",
       "      <td>0</td>\n",
       "      <td>0</td>\n",
       "      <td>0</td>\n",
       "      <td>0</td>\n",
       "      <td>0</td>\n",
       "      <td>0</td>\n",
       "      <td>0</td>\n",
       "    </tr>\n",
       "    <tr>\n",
       "      <th>406709</th>\n",
       "      <td>3.487103</td>\n",
       "      <td>5.089485</td>\n",
       "      <td>3.086833</td>\n",
       "      <td>6.248275</td>\n",
       "      <td>7.419530</td>\n",
       "      <td>10.689158</td>\n",
       "      <td>10.229421</td>\n",
       "      <td>10.338321</td>\n",
       "      <td>10.888590</td>\n",
       "      <td>7.902169</td>\n",
       "      <td>...</td>\n",
       "      <td>300.836426</td>\n",
       "      <td>0</td>\n",
       "      <td>0</td>\n",
       "      <td>0</td>\n",
       "      <td>0</td>\n",
       "      <td>0</td>\n",
       "      <td>0</td>\n",
       "      <td>0</td>\n",
       "      <td>0</td>\n",
       "      <td>0</td>\n",
       "    </tr>\n",
       "    <tr>\n",
       "      <th>406710</th>\n",
       "      <td>3.392084</td>\n",
       "      <td>5.045586</td>\n",
       "      <td>3.030515</td>\n",
       "      <td>6.185314</td>\n",
       "      <td>7.390649</td>\n",
       "      <td>10.612912</td>\n",
       "      <td>10.319819</td>\n",
       "      <td>10.342653</td>\n",
       "      <td>10.801947</td>\n",
       "      <td>7.777403</td>\n",
       "      <td>...</td>\n",
       "      <td>280.484711</td>\n",
       "      <td>0</td>\n",
       "      <td>0</td>\n",
       "      <td>0</td>\n",
       "      <td>0</td>\n",
       "      <td>0</td>\n",
       "      <td>0</td>\n",
       "      <td>0</td>\n",
       "      <td>0</td>\n",
       "      <td>0</td>\n",
       "    </tr>\n",
       "    <tr>\n",
       "      <th>406713</th>\n",
       "      <td>3.009395</td>\n",
       "      <td>4.720792</td>\n",
       "      <td>2.778185</td>\n",
       "      <td>5.897559</td>\n",
       "      <td>7.162360</td>\n",
       "      <td>10.498544</td>\n",
       "      <td>10.369092</td>\n",
       "      <td>10.331163</td>\n",
       "      <td>10.551315</td>\n",
       "      <td>7.452385</td>\n",
       "      <td>...</td>\n",
       "      <td>17.305172</td>\n",
       "      <td>0</td>\n",
       "      <td>0</td>\n",
       "      <td>0</td>\n",
       "      <td>0</td>\n",
       "      <td>0</td>\n",
       "      <td>0</td>\n",
       "      <td>0</td>\n",
       "      <td>0</td>\n",
       "      <td>0</td>\n",
       "    </tr>\n",
       "    <tr>\n",
       "      <th>406721</th>\n",
       "      <td>0.549069</td>\n",
       "      <td>2.324776</td>\n",
       "      <td>0.926164</td>\n",
       "      <td>4.091113</td>\n",
       "      <td>5.614447</td>\n",
       "      <td>9.383531</td>\n",
       "      <td>9.489598</td>\n",
       "      <td>9.436099</td>\n",
       "      <td>8.101514</td>\n",
       "      <td>5.059504</td>\n",
       "      <td>...</td>\n",
       "      <td>77.851295</td>\n",
       "      <td>0</td>\n",
       "      <td>0</td>\n",
       "      <td>0</td>\n",
       "      <td>0</td>\n",
       "      <td>0</td>\n",
       "      <td>0</td>\n",
       "      <td>0</td>\n",
       "      <td>0</td>\n",
       "      <td>0</td>\n",
       "    </tr>\n",
       "  </tbody>\n",
       "</table>\n",
       "<p>210753 rows × 779 columns</p>\n",
       "</div>"
      ],
      "text/plain": [
       "        tmin_2000_01  tmin_2000_02  tmin_2000_03  tmin_2000_04  tmin_2000_05  \\\n",
       "9           8.675816     10.219345      9.731707     12.180506     14.490682   \n",
       "12          8.144152      9.759753      9.178896     11.747844     14.075211   \n",
       "13          8.105558      9.720821      9.159455     11.721721     14.078178   \n",
       "25          8.489559     10.073552      9.580560     12.055531     14.382141   \n",
       "26          8.286108      9.899659      9.365999     11.886550     14.214337   \n",
       "...              ...           ...           ...           ...           ...   \n",
       "406708      3.598752      5.177238      3.126388      6.295009      7.461285   \n",
       "406709      3.487103      5.089485      3.086833      6.248275      7.419530   \n",
       "406710      3.392084      5.045586      3.030515      6.185314      7.390649   \n",
       "406713      3.009395      4.720792      2.778185      5.897559      7.162360   \n",
       "406721      0.549069      2.324776      0.926164      4.091113      5.614447   \n",
       "\n",
       "        tmin_2000_06  tmin_2000_07  tmin_2000_08  tmin_2000_09  tmin_2000_10  \\\n",
       "9          16.230926     16.913616     18.413110     16.969744     14.131212   \n",
       "12         15.906640     16.531920     18.077907     16.631799     13.807841   \n",
       "13         15.900729     16.500637     18.065376     16.612883     13.788348   \n",
       "25         16.145022     16.830786     18.314841     16.877583     14.013923   \n",
       "26         16.018683     16.688502     18.184488     16.742595     13.885365   \n",
       "...              ...           ...           ...           ...           ...   \n",
       "406708     10.657983     10.246043     10.319505     10.910593      7.972889   \n",
       "406709     10.689158     10.229421     10.338321     10.888590      7.902169   \n",
       "406710     10.612912     10.319819     10.342653     10.801947      7.777403   \n",
       "406713     10.498544     10.369092     10.331163     10.551315      7.452385   \n",
       "406721      9.383531      9.489598      9.436099      8.101514      5.059504   \n",
       "\n",
       "        ...      aspect  treat_2000  treat_2001  treat_2002  treat_2003  \\\n",
       "9       ...  316.839905           0           0           0           0   \n",
       "12      ...    5.109946           0           0           0           0   \n",
       "13      ...   18.281784           0           0           0           0   \n",
       "25      ...  328.015411           0           0           0           0   \n",
       "26      ...  352.953552           0           0           0           0   \n",
       "...     ...         ...         ...         ...         ...         ...   \n",
       "406708  ...  345.271362           0           0           0           0   \n",
       "406709  ...  300.836426           0           0           0           0   \n",
       "406710  ...  280.484711           0           0           0           0   \n",
       "406713  ...   17.305172           0           0           0           0   \n",
       "406721  ...   77.851295           0           0           0           0   \n",
       "\n",
       "        treat_2004  treat_2005  treat_2006  treat_2007  treat_2008  \n",
       "9                0           0           0           0           0  \n",
       "12               0           0           0           0           0  \n",
       "13               0           0           0           0           0  \n",
       "25               0           0           0           0           0  \n",
       "26               0           0           0           0           0  \n",
       "...            ...         ...         ...         ...         ...  \n",
       "406708           0           0           0           0           0  \n",
       "406709           0           0           0           0           0  \n",
       "406710           0           0           0           0           0  \n",
       "406713           0           0           0           0           0  \n",
       "406721           0           0           0           0           0  \n",
       "\n",
       "[210753 rows x 779 columns]"
      ]
     },
     "execution_count": 59,
     "metadata": {},
     "output_type": "execute_result"
    }
   ],
   "source": [
    "df_subset"
   ]
  },
  {
   "cell_type": "code",
   "execution_count": 35,
   "metadata": {},
   "outputs": [
    {
     "name": "stderr",
     "output_type": "stream",
     "text": [
      "Optimizing CBPS...:   0%|          | 12/10000 [00:00<03:09, 52.78it/s]"
     ]
    },
    {
     "name": "stdout",
     "output_type": "stream",
     "text": [
      "Iteration 0: loss = 23.11890983581543\n"
     ]
    },
    {
     "name": "stderr",
     "output_type": "stream",
     "text": [
      "Optimizing CBPS...:   1%|          | 122/10000 [00:01<01:33, 106.05it/s]"
     ]
    },
    {
     "name": "stdout",
     "output_type": "stream",
     "text": [
      "Iteration 100: loss = 22.810710906982422\n"
     ]
    },
    {
     "name": "stderr",
     "output_type": "stream",
     "text": [
      "Optimizing CBPS...:   2%|▏         | 221/10000 [00:02<01:31, 106.81it/s]"
     ]
    },
    {
     "name": "stdout",
     "output_type": "stream",
     "text": [
      "Iteration 200: loss = 22.50250816345215\n"
     ]
    },
    {
     "name": "stderr",
     "output_type": "stream",
     "text": [
      "Optimizing CBPS...:   3%|▎         | 320/10000 [00:03<01:30, 107.31it/s]"
     ]
    },
    {
     "name": "stdout",
     "output_type": "stream",
     "text": [
      "Iteration 300: loss = 22.194303512573242\n"
     ]
    },
    {
     "name": "stderr",
     "output_type": "stream",
     "text": [
      "Optimizing CBPS...:   4%|▍         | 419/10000 [00:04<01:29, 107.26it/s]"
     ]
    },
    {
     "name": "stdout",
     "output_type": "stream",
     "text": [
      "Iteration 400: loss = 21.886104583740234\n"
     ]
    },
    {
     "name": "stderr",
     "output_type": "stream",
     "text": [
      "Optimizing CBPS...:   5%|▌         | 518/10000 [00:04<01:28, 107.26it/s]"
     ]
    },
    {
     "name": "stdout",
     "output_type": "stream",
     "text": [
      "Iteration 500: loss = 21.57790756225586\n"
     ]
    },
    {
     "name": "stderr",
     "output_type": "stream",
     "text": [
      "Optimizing CBPS...:   6%|▌         | 617/10000 [00:05<01:27, 107.24it/s]"
     ]
    },
    {
     "name": "stdout",
     "output_type": "stream",
     "text": [
      "Iteration 600: loss = 21.269710540771484\n"
     ]
    },
    {
     "name": "stderr",
     "output_type": "stream",
     "text": [
      "Optimizing CBPS...:   7%|▋         | 716/10000 [00:06<01:26, 107.35it/s]"
     ]
    },
    {
     "name": "stdout",
     "output_type": "stream",
     "text": [
      "Iteration 700: loss = 20.961515426635742\n"
     ]
    },
    {
     "name": "stderr",
     "output_type": "stream",
     "text": [
      "Optimizing CBPS...:   8%|▊         | 815/10000 [00:07<01:25, 107.20it/s]"
     ]
    },
    {
     "name": "stdout",
     "output_type": "stream",
     "text": [
      "Iteration 800: loss = 20.653318405151367\n"
     ]
    },
    {
     "name": "stderr",
     "output_type": "stream",
     "text": [
      "Optimizing CBPS...:   9%|▉         | 914/10000 [00:08<01:24, 107.19it/s]"
     ]
    },
    {
     "name": "stdout",
     "output_type": "stream",
     "text": [
      "Iteration 900: loss = 20.345125198364258\n"
     ]
    },
    {
     "name": "stderr",
     "output_type": "stream",
     "text": [
      "Optimizing CBPS...:  10%|█         | 1013/10000 [00:09<01:23, 107.19it/s]"
     ]
    },
    {
     "name": "stdout",
     "output_type": "stream",
     "text": [
      "Iteration 1000: loss = 20.03693389892578\n"
     ]
    },
    {
     "name": "stderr",
     "output_type": "stream",
     "text": [
      "Optimizing CBPS...:  11%|█         | 1112/10000 [00:10<01:22, 107.24it/s]"
     ]
    },
    {
     "name": "stdout",
     "output_type": "stream",
     "text": [
      "Iteration 1100: loss = 19.72874641418457\n"
     ]
    },
    {
     "name": "stderr",
     "output_type": "stream",
     "text": [
      "Optimizing CBPS...:  12%|█▏        | 1222/10000 [00:11<01:21, 107.23it/s]"
     ]
    },
    {
     "name": "stdout",
     "output_type": "stream",
     "text": [
      "Iteration 1200: loss = 19.420562744140625\n"
     ]
    },
    {
     "name": "stderr",
     "output_type": "stream",
     "text": [
      "Optimizing CBPS...:  13%|█▎        | 1321/10000 [00:12<01:20, 107.20it/s]"
     ]
    },
    {
     "name": "stdout",
     "output_type": "stream",
     "text": [
      "Iteration 1300: loss = 19.112380981445312\n"
     ]
    },
    {
     "name": "stderr",
     "output_type": "stream",
     "text": [
      "Optimizing CBPS...:  14%|█▍        | 1420/10000 [00:13<01:20, 107.14it/s]"
     ]
    },
    {
     "name": "stdout",
     "output_type": "stream",
     "text": [
      "Iteration 1400: loss = 18.804201126098633\n"
     ]
    },
    {
     "name": "stderr",
     "output_type": "stream",
     "text": [
      "Optimizing CBPS...:  15%|█▌        | 1519/10000 [00:14<01:19, 107.18it/s]"
     ]
    },
    {
     "name": "stdout",
     "output_type": "stream",
     "text": [
      "Iteration 1500: loss = 18.496028900146484\n"
     ]
    },
    {
     "name": "stderr",
     "output_type": "stream",
     "text": [
      "Optimizing CBPS...:  16%|█▌        | 1618/10000 [00:15<01:18, 107.31it/s]"
     ]
    },
    {
     "name": "stdout",
     "output_type": "stream",
     "text": [
      "Iteration 1600: loss = 18.1878604888916\n"
     ]
    },
    {
     "name": "stderr",
     "output_type": "stream",
     "text": [
      "Optimizing CBPS...:  17%|█▋        | 1717/10000 [00:16<01:17, 107.28it/s]"
     ]
    },
    {
     "name": "stdout",
     "output_type": "stream",
     "text": [
      "Iteration 1700: loss = 17.87969970703125\n"
     ]
    },
    {
     "name": "stderr",
     "output_type": "stream",
     "text": [
      "Optimizing CBPS...:  18%|█▊        | 1816/10000 [00:17<01:16, 107.30it/s]"
     ]
    },
    {
     "name": "stdout",
     "output_type": "stream",
     "text": [
      "Iteration 1800: loss = 17.57154655456543\n"
     ]
    },
    {
     "name": "stderr",
     "output_type": "stream",
     "text": [
      "Optimizing CBPS...:  19%|█▉        | 1915/10000 [00:18<01:15, 107.13it/s]"
     ]
    },
    {
     "name": "stdout",
     "output_type": "stream",
     "text": [
      "Iteration 1900: loss = 17.263408660888672\n"
     ]
    },
    {
     "name": "stderr",
     "output_type": "stream",
     "text": [
      "Optimizing CBPS...:  20%|██        | 2014/10000 [00:18<01:14, 107.11it/s]"
     ]
    },
    {
     "name": "stdout",
     "output_type": "stream",
     "text": [
      "Iteration 2000: loss = 16.955278396606445\n"
     ]
    },
    {
     "name": "stderr",
     "output_type": "stream",
     "text": [
      "Optimizing CBPS...:  21%|██        | 2113/10000 [00:19<01:13, 107.15it/s]"
     ]
    },
    {
     "name": "stdout",
     "output_type": "stream",
     "text": [
      "Iteration 2100: loss = 16.647171020507812\n"
     ]
    },
    {
     "name": "stderr",
     "output_type": "stream",
     "text": [
      "Optimizing CBPS...:  22%|██▏       | 2212/10000 [00:20<01:12, 106.98it/s]"
     ]
    },
    {
     "name": "stdout",
     "output_type": "stream",
     "text": [
      "Iteration 2200: loss = 16.339075088500977\n"
     ]
    },
    {
     "name": "stderr",
     "output_type": "stream",
     "text": [
      "Optimizing CBPS...:  23%|██▎       | 2322/10000 [00:21<01:11, 107.07it/s]"
     ]
    },
    {
     "name": "stdout",
     "output_type": "stream",
     "text": [
      "Iteration 2300: loss = 16.030996322631836\n"
     ]
    },
    {
     "name": "stderr",
     "output_type": "stream",
     "text": [
      "Optimizing CBPS...:  24%|██▍       | 2421/10000 [00:22<01:11, 106.73it/s]"
     ]
    },
    {
     "name": "stdout",
     "output_type": "stream",
     "text": [
      "Iteration 2400: loss = 15.722939491271973\n"
     ]
    },
    {
     "name": "stderr",
     "output_type": "stream",
     "text": [
      "Optimizing CBPS...:  25%|██▌       | 2520/10000 [00:23<01:10, 106.68it/s]"
     ]
    },
    {
     "name": "stdout",
     "output_type": "stream",
     "text": [
      "Iteration 2500: loss = 15.414925575256348\n"
     ]
    },
    {
     "name": "stderr",
     "output_type": "stream",
     "text": [
      "Optimizing CBPS...:  26%|██▌       | 2619/10000 [00:24<01:09, 106.85it/s]"
     ]
    },
    {
     "name": "stdout",
     "output_type": "stream",
     "text": [
      "Iteration 2600: loss = 15.106982231140137\n"
     ]
    },
    {
     "name": "stderr",
     "output_type": "stream",
     "text": [
      "Optimizing CBPS...:  27%|██▋       | 2718/10000 [00:25<01:08, 106.70it/s]"
     ]
    },
    {
     "name": "stdout",
     "output_type": "stream",
     "text": [
      "Iteration 2700: loss = 14.799077987670898\n"
     ]
    },
    {
     "name": "stderr",
     "output_type": "stream",
     "text": [
      "Optimizing CBPS...:  28%|██▊       | 2817/10000 [00:26<01:07, 106.78it/s]"
     ]
    },
    {
     "name": "stdout",
     "output_type": "stream",
     "text": [
      "Iteration 2800: loss = 14.491196632385254\n"
     ]
    },
    {
     "name": "stderr",
     "output_type": "stream",
     "text": [
      "Optimizing CBPS...:  29%|██▉       | 2916/10000 [00:27<01:06, 106.73it/s]"
     ]
    },
    {
     "name": "stdout",
     "output_type": "stream",
     "text": [
      "Iteration 2900: loss = 14.183340072631836\n"
     ]
    },
    {
     "name": "stderr",
     "output_type": "stream",
     "text": [
      "Optimizing CBPS...:  30%|███       | 3015/10000 [00:28<01:05, 106.53it/s]"
     ]
    },
    {
     "name": "stdout",
     "output_type": "stream",
     "text": [
      "Iteration 3000: loss = 13.875511169433594\n"
     ]
    },
    {
     "name": "stderr",
     "output_type": "stream",
     "text": [
      "Optimizing CBPS...:  31%|███       | 3114/10000 [00:29<01:04, 106.67it/s]"
     ]
    },
    {
     "name": "stdout",
     "output_type": "stream",
     "text": [
      "Iteration 3100: loss = 13.567720413208008\n"
     ]
    },
    {
     "name": "stderr",
     "output_type": "stream",
     "text": [
      "Optimizing CBPS...:  32%|███▏      | 3213/10000 [00:30<01:03, 106.61it/s]"
     ]
    },
    {
     "name": "stdout",
     "output_type": "stream",
     "text": [
      "Iteration 3200: loss = 13.259977340698242\n"
     ]
    },
    {
     "name": "stderr",
     "output_type": "stream",
     "text": [
      "Optimizing CBPS...:  33%|███▎      | 3312/10000 [00:31<01:02, 106.50it/s]"
     ]
    },
    {
     "name": "stdout",
     "output_type": "stream",
     "text": [
      "Iteration 3300: loss = 12.952285766601562\n"
     ]
    },
    {
     "name": "stderr",
     "output_type": "stream",
     "text": [
      "Optimizing CBPS...:  34%|███▍      | 3422/10000 [00:32<01:01, 106.68it/s]"
     ]
    },
    {
     "name": "stdout",
     "output_type": "stream",
     "text": [
      "Iteration 3400: loss = 12.644662857055664\n"
     ]
    },
    {
     "name": "stderr",
     "output_type": "stream",
     "text": [
      "Optimizing CBPS...:  35%|███▌      | 3521/10000 [00:33<01:00, 106.84it/s]"
     ]
    },
    {
     "name": "stdout",
     "output_type": "stream",
     "text": [
      "Iteration 3500: loss = 12.33712387084961\n"
     ]
    },
    {
     "name": "stderr",
     "output_type": "stream",
     "text": [
      "Optimizing CBPS...:  36%|███▌      | 3620/10000 [00:33<00:59, 106.69it/s]"
     ]
    },
    {
     "name": "stdout",
     "output_type": "stream",
     "text": [
      "Iteration 3600: loss = 12.02969741821289\n"
     ]
    },
    {
     "name": "stderr",
     "output_type": "stream",
     "text": [
      "Optimizing CBPS...:  37%|███▋      | 3719/10000 [00:34<00:58, 106.71it/s]"
     ]
    },
    {
     "name": "stdout",
     "output_type": "stream",
     "text": [
      "Iteration 3700: loss = 11.722420692443848\n"
     ]
    },
    {
     "name": "stderr",
     "output_type": "stream",
     "text": [
      "Optimizing CBPS...:  38%|███▊      | 3818/10000 [00:35<00:57, 106.84it/s]"
     ]
    },
    {
     "name": "stdout",
     "output_type": "stream",
     "text": [
      "Iteration 3800: loss = 11.415334701538086\n"
     ]
    },
    {
     "name": "stderr",
     "output_type": "stream",
     "text": [
      "Optimizing CBPS...:  39%|███▉      | 3917/10000 [00:36<00:56, 106.77it/s]"
     ]
    },
    {
     "name": "stdout",
     "output_type": "stream",
     "text": [
      "Iteration 3900: loss = 11.108637809753418\n"
     ]
    },
    {
     "name": "stderr",
     "output_type": "stream",
     "text": [
      "Optimizing CBPS...:  40%|████      | 4016/10000 [00:37<00:56, 106.67it/s]"
     ]
    },
    {
     "name": "stdout",
     "output_type": "stream",
     "text": [
      "Iteration 4000: loss = 10.802377700805664\n"
     ]
    },
    {
     "name": "stderr",
     "output_type": "stream",
     "text": [
      "Optimizing CBPS...:  41%|████      | 4115/10000 [00:38<00:55, 106.71it/s]"
     ]
    },
    {
     "name": "stdout",
     "output_type": "stream",
     "text": [
      "Iteration 4100: loss = 10.496451377868652\n"
     ]
    },
    {
     "name": "stderr",
     "output_type": "stream",
     "text": [
      "Optimizing CBPS...:  42%|████▏     | 4214/10000 [00:39<00:54, 106.70it/s]"
     ]
    },
    {
     "name": "stdout",
     "output_type": "stream",
     "text": [
      "Iteration 4200: loss = 10.191012382507324\n"
     ]
    },
    {
     "name": "stderr",
     "output_type": "stream",
     "text": [
      "Optimizing CBPS...:  43%|████▎     | 4313/10000 [00:40<00:53, 106.75it/s]"
     ]
    },
    {
     "name": "stdout",
     "output_type": "stream",
     "text": [
      "Iteration 4300: loss = 9.886276245117188\n"
     ]
    },
    {
     "name": "stderr",
     "output_type": "stream",
     "text": [
      "Optimizing CBPS...:  44%|████▍     | 4412/10000 [00:41<00:52, 106.64it/s]"
     ]
    },
    {
     "name": "stdout",
     "output_type": "stream",
     "text": [
      "Iteration 4400: loss = 9.582870483398438\n"
     ]
    },
    {
     "name": "stderr",
     "output_type": "stream",
     "text": [
      "Optimizing CBPS...:  45%|████▌     | 4522/10000 [00:42<00:51, 106.68it/s]"
     ]
    },
    {
     "name": "stdout",
     "output_type": "stream",
     "text": [
      "Iteration 4500: loss = 9.28050708770752\n"
     ]
    },
    {
     "name": "stderr",
     "output_type": "stream",
     "text": [
      "Optimizing CBPS...:  46%|████▌     | 4621/10000 [00:43<00:50, 106.61it/s]"
     ]
    },
    {
     "name": "stdout",
     "output_type": "stream",
     "text": [
      "Iteration 4600: loss = 8.979632377624512\n"
     ]
    },
    {
     "name": "stderr",
     "output_type": "stream",
     "text": [
      "Optimizing CBPS...:  47%|████▋     | 4720/10000 [00:44<00:49, 106.64it/s]"
     ]
    },
    {
     "name": "stdout",
     "output_type": "stream",
     "text": [
      "Iteration 4700: loss = 8.680587768554688\n"
     ]
    },
    {
     "name": "stderr",
     "output_type": "stream",
     "text": [
      "Optimizing CBPS...:  48%|████▊     | 4819/10000 [00:45<00:48, 106.59it/s]"
     ]
    },
    {
     "name": "stdout",
     "output_type": "stream",
     "text": [
      "Iteration 4800: loss = 8.38415241241455\n"
     ]
    },
    {
     "name": "stderr",
     "output_type": "stream",
     "text": [
      "Optimizing CBPS...:  49%|████▉     | 4918/10000 [00:46<00:47, 106.62it/s]"
     ]
    },
    {
     "name": "stdout",
     "output_type": "stream",
     "text": [
      "Iteration 4900: loss = 8.091296195983887\n"
     ]
    },
    {
     "name": "stderr",
     "output_type": "stream",
     "text": [
      "Optimizing CBPS...:  50%|█████     | 5017/10000 [00:47<00:46, 106.61it/s]"
     ]
    },
    {
     "name": "stdout",
     "output_type": "stream",
     "text": [
      "Iteration 5000: loss = 7.802567005157471\n"
     ]
    },
    {
     "name": "stderr",
     "output_type": "stream",
     "text": [
      "Optimizing CBPS...:  51%|█████     | 5116/10000 [00:48<00:45, 106.54it/s]"
     ]
    },
    {
     "name": "stdout",
     "output_type": "stream",
     "text": [
      "Iteration 5100: loss = 7.519818305969238\n"
     ]
    },
    {
     "name": "stderr",
     "output_type": "stream",
     "text": [
      "Optimizing CBPS...:  52%|█████▏    | 5215/10000 [00:48<00:44, 106.58it/s]"
     ]
    },
    {
     "name": "stdout",
     "output_type": "stream",
     "text": [
      "Iteration 5200: loss = 7.2447404861450195\n"
     ]
    },
    {
     "name": "stderr",
     "output_type": "stream",
     "text": [
      "Optimizing CBPS...:  53%|█████▎    | 5314/10000 [00:49<00:43, 106.51it/s]"
     ]
    },
    {
     "name": "stdout",
     "output_type": "stream",
     "text": [
      "Iteration 5300: loss = 6.97959566116333\n"
     ]
    },
    {
     "name": "stderr",
     "output_type": "stream",
     "text": [
      "Optimizing CBPS...:  54%|█████▍    | 5413/10000 [00:50<00:43, 106.57it/s]"
     ]
    },
    {
     "name": "stdout",
     "output_type": "stream",
     "text": [
      "Iteration 5400: loss = 6.727217674255371\n"
     ]
    },
    {
     "name": "stderr",
     "output_type": "stream",
     "text": [
      "Optimizing CBPS...:  55%|█████▌    | 5512/10000 [00:51<00:42, 106.56it/s]"
     ]
    },
    {
     "name": "stdout",
     "output_type": "stream",
     "text": [
      "Iteration 5500: loss = 6.491003513336182\n"
     ]
    },
    {
     "name": "stderr",
     "output_type": "stream",
     "text": [
      "Optimizing CBPS...:  56%|█████▌    | 5622/10000 [00:52<00:41, 106.39it/s]"
     ]
    },
    {
     "name": "stdout",
     "output_type": "stream",
     "text": [
      "Iteration 5600: loss = 6.274708271026611\n"
     ]
    },
    {
     "name": "stderr",
     "output_type": "stream",
     "text": [
      "Optimizing CBPS...:  57%|█████▋    | 5721/10000 [00:53<00:40, 106.49it/s]"
     ]
    },
    {
     "name": "stdout",
     "output_type": "stream",
     "text": [
      "Iteration 5700: loss = 6.082194805145264\n"
     ]
    },
    {
     "name": "stderr",
     "output_type": "stream",
     "text": [
      "Optimizing CBPS...:  58%|█████▊    | 5820/10000 [00:54<00:39, 106.55it/s]"
     ]
    },
    {
     "name": "stdout",
     "output_type": "stream",
     "text": [
      "Iteration 5800: loss = 5.916855335235596\n"
     ]
    },
    {
     "name": "stderr",
     "output_type": "stream",
     "text": [
      "Optimizing CBPS...:  59%|█████▉    | 5919/10000 [00:55<00:38, 106.51it/s]"
     ]
    },
    {
     "name": "stdout",
     "output_type": "stream",
     "text": [
      "Iteration 5900: loss = 5.780903339385986\n"
     ]
    },
    {
     "name": "stderr",
     "output_type": "stream",
     "text": [
      "Optimizing CBPS...:  60%|██████    | 6018/10000 [00:56<00:37, 106.35it/s]"
     ]
    },
    {
     "name": "stdout",
     "output_type": "stream",
     "text": [
      "Iteration 6000: loss = 5.674607276916504\n"
     ]
    },
    {
     "name": "stderr",
     "output_type": "stream",
     "text": [
      "Optimizing CBPS...:  61%|██████    | 6117/10000 [00:57<00:36, 106.29it/s]"
     ]
    },
    {
     "name": "stdout",
     "output_type": "stream",
     "text": [
      "Iteration 6100: loss = 5.595837116241455\n"
     ]
    },
    {
     "name": "stderr",
     "output_type": "stream",
     "text": [
      "Optimizing CBPS...:  62%|██████▏   | 6216/10000 [00:58<00:35, 106.16it/s]"
     ]
    },
    {
     "name": "stdout",
     "output_type": "stream",
     "text": [
      "Iteration 6200: loss = 5.540249824523926\n"
     ]
    },
    {
     "name": "stderr",
     "output_type": "stream",
     "text": [
      "Optimizing CBPS...:  63%|██████▎   | 6315/10000 [00:59<00:34, 106.20it/s]"
     ]
    },
    {
     "name": "stdout",
     "output_type": "stream",
     "text": [
      "Iteration 6300: loss = 5.502181529998779\n"
     ]
    },
    {
     "name": "stderr",
     "output_type": "stream",
     "text": [
      "Optimizing CBPS...:  64%|██████▍   | 6414/10000 [01:00<00:33, 106.38it/s]"
     ]
    },
    {
     "name": "stdout",
     "output_type": "stream",
     "text": [
      "Iteration 6400: loss = 5.475917339324951\n"
     ]
    },
    {
     "name": "stderr",
     "output_type": "stream",
     "text": [
      "Optimizing CBPS...:  65%|██████▌   | 6513/10000 [01:01<00:32, 106.50it/s]"
     ]
    },
    {
     "name": "stdout",
     "output_type": "stream",
     "text": [
      "Iteration 6500: loss = 5.456734657287598\n"
     ]
    },
    {
     "name": "stderr",
     "output_type": "stream",
     "text": [
      "Optimizing CBPS...:  66%|██████▌   | 6612/10000 [01:02<00:31, 106.51it/s]"
     ]
    },
    {
     "name": "stdout",
     "output_type": "stream",
     "text": [
      "Iteration 6600: loss = 5.441335678100586\n"
     ]
    },
    {
     "name": "stderr",
     "output_type": "stream",
     "text": [
      "Optimizing CBPS...:  67%|██████▋   | 6722/10000 [01:03<00:30, 106.41it/s]"
     ]
    },
    {
     "name": "stdout",
     "output_type": "stream",
     "text": [
      "Iteration 6700: loss = 5.427740097045898\n"
     ]
    },
    {
     "name": "stderr",
     "output_type": "stream",
     "text": [
      "Optimizing CBPS...:  68%|██████▊   | 6821/10000 [01:04<00:29, 106.34it/s]"
     ]
    },
    {
     "name": "stdout",
     "output_type": "stream",
     "text": [
      "Iteration 6800: loss = 5.4148969650268555\n"
     ]
    },
    {
     "name": "stderr",
     "output_type": "stream",
     "text": [
      "Optimizing CBPS...:  69%|██████▉   | 6920/10000 [01:04<00:28, 106.42it/s]"
     ]
    },
    {
     "name": "stdout",
     "output_type": "stream",
     "text": [
      "Iteration 6900: loss = 5.402297019958496\n"
     ]
    },
    {
     "name": "stderr",
     "output_type": "stream",
     "text": [
      "Optimizing CBPS...:  70%|███████   | 7019/10000 [01:05<00:28, 106.43it/s]"
     ]
    },
    {
     "name": "stdout",
     "output_type": "stream",
     "text": [
      "Iteration 7000: loss = 5.389720916748047\n"
     ]
    },
    {
     "name": "stderr",
     "output_type": "stream",
     "text": [
      "Optimizing CBPS...:  71%|███████   | 7118/10000 [01:06<00:27, 106.40it/s]"
     ]
    },
    {
     "name": "stdout",
     "output_type": "stream",
     "text": [
      "Iteration 7100: loss = 5.377082824707031\n"
     ]
    },
    {
     "name": "stderr",
     "output_type": "stream",
     "text": [
      "Optimizing CBPS...:  72%|███████▏  | 7217/10000 [01:07<00:26, 106.40it/s]"
     ]
    },
    {
     "name": "stdout",
     "output_type": "stream",
     "text": [
      "Iteration 7200: loss = 5.364340305328369\n"
     ]
    },
    {
     "name": "stderr",
     "output_type": "stream",
     "text": [
      "Optimizing CBPS...:  73%|███████▎  | 7316/10000 [01:08<00:25, 106.47it/s]"
     ]
    },
    {
     "name": "stdout",
     "output_type": "stream",
     "text": [
      "Iteration 7300: loss = 5.3514838218688965\n"
     ]
    },
    {
     "name": "stderr",
     "output_type": "stream",
     "text": [
      "Optimizing CBPS...:  74%|███████▍  | 7415/10000 [01:09<00:24, 106.42it/s]"
     ]
    },
    {
     "name": "stdout",
     "output_type": "stream",
     "text": [
      "Iteration 7400: loss = 5.338512897491455\n"
     ]
    },
    {
     "name": "stderr",
     "output_type": "stream",
     "text": [
      "Optimizing CBPS...:  75%|███████▌  | 7514/10000 [01:10<00:23, 106.43it/s]"
     ]
    },
    {
     "name": "stdout",
     "output_type": "stream",
     "text": [
      "Iteration 7500: loss = 5.325432777404785\n"
     ]
    },
    {
     "name": "stderr",
     "output_type": "stream",
     "text": [
      "Optimizing CBPS...:  76%|███████▌  | 7613/10000 [01:11<00:22, 106.46it/s]"
     ]
    },
    {
     "name": "stdout",
     "output_type": "stream",
     "text": [
      "Iteration 7600: loss = 5.3122453689575195\n"
     ]
    },
    {
     "name": "stderr",
     "output_type": "stream",
     "text": [
      "Optimizing CBPS...:  77%|███████▋  | 7712/10000 [01:12<00:21, 106.43it/s]"
     ]
    },
    {
     "name": "stdout",
     "output_type": "stream",
     "text": [
      "Iteration 7700: loss = 5.29896354675293\n"
     ]
    },
    {
     "name": "stderr",
     "output_type": "stream",
     "text": [
      "Optimizing CBPS...:  78%|███████▊  | 7822/10000 [01:13<00:20, 106.52it/s]"
     ]
    },
    {
     "name": "stdout",
     "output_type": "stream",
     "text": [
      "Iteration 7800: loss = 5.285593032836914\n"
     ]
    },
    {
     "name": "stderr",
     "output_type": "stream",
     "text": [
      "Optimizing CBPS...:  79%|███████▉  | 7921/10000 [01:14<00:19, 106.36it/s]"
     ]
    },
    {
     "name": "stdout",
     "output_type": "stream",
     "text": [
      "Iteration 7900: loss = 5.272145748138428\n"
     ]
    },
    {
     "name": "stderr",
     "output_type": "stream",
     "text": [
      "Optimizing CBPS...:  80%|████████  | 8020/10000 [01:15<00:18, 106.41it/s]"
     ]
    },
    {
     "name": "stdout",
     "output_type": "stream",
     "text": [
      "Iteration 8000: loss = 5.258636474609375\n"
     ]
    },
    {
     "name": "stderr",
     "output_type": "stream",
     "text": [
      "Optimizing CBPS...:  81%|████████  | 8119/10000 [01:16<00:17, 106.47it/s]"
     ]
    },
    {
     "name": "stdout",
     "output_type": "stream",
     "text": [
      "Iteration 8100: loss = 5.245069980621338\n"
     ]
    },
    {
     "name": "stderr",
     "output_type": "stream",
     "text": [
      "Optimizing CBPS...:  82%|████████▏ | 8218/10000 [01:17<00:16, 106.32it/s]"
     ]
    },
    {
     "name": "stdout",
     "output_type": "stream",
     "text": [
      "Iteration 8200: loss = 5.231465816497803\n"
     ]
    },
    {
     "name": "stderr",
     "output_type": "stream",
     "text": [
      "Optimizing CBPS...:  83%|████████▎ | 8317/10000 [01:18<00:15, 106.50it/s]"
     ]
    },
    {
     "name": "stdout",
     "output_type": "stream",
     "text": [
      "Iteration 8300: loss = 5.217829704284668\n"
     ]
    },
    {
     "name": "stderr",
     "output_type": "stream",
     "text": [
      "Optimizing CBPS...:  84%|████████▍ | 8416/10000 [01:19<00:14, 106.36it/s]"
     ]
    },
    {
     "name": "stdout",
     "output_type": "stream",
     "text": [
      "Iteration 8400: loss = 5.20417594909668\n"
     ]
    },
    {
     "name": "stderr",
     "output_type": "stream",
     "text": [
      "Optimizing CBPS...:  85%|████████▌ | 8515/10000 [01:19<00:13, 106.48it/s]"
     ]
    },
    {
     "name": "stdout",
     "output_type": "stream",
     "text": [
      "Iteration 8500: loss = 5.190516471862793\n"
     ]
    },
    {
     "name": "stderr",
     "output_type": "stream",
     "text": [
      "Optimizing CBPS...:  86%|████████▌ | 8614/10000 [01:20<00:13, 106.40it/s]"
     ]
    },
    {
     "name": "stdout",
     "output_type": "stream",
     "text": [
      "Iteration 8600: loss = 5.176867485046387\n"
     ]
    },
    {
     "name": "stderr",
     "output_type": "stream",
     "text": [
      "Optimizing CBPS...:  87%|████████▋ | 8713/10000 [01:21<00:12, 106.37it/s]"
     ]
    },
    {
     "name": "stdout",
     "output_type": "stream",
     "text": [
      "Iteration 8700: loss = 5.163237571716309\n"
     ]
    },
    {
     "name": "stderr",
     "output_type": "stream",
     "text": [
      "Optimizing CBPS...:  88%|████████▊ | 8812/10000 [01:22<00:11, 106.43it/s]"
     ]
    },
    {
     "name": "stdout",
     "output_type": "stream",
     "text": [
      "Iteration 8800: loss = 5.149633407592773\n"
     ]
    },
    {
     "name": "stderr",
     "output_type": "stream",
     "text": [
      "Optimizing CBPS...:  89%|████████▉ | 8922/10000 [01:23<00:10, 106.42it/s]"
     ]
    },
    {
     "name": "stdout",
     "output_type": "stream",
     "text": [
      "Iteration 8900: loss = 5.136078834533691\n"
     ]
    },
    {
     "name": "stderr",
     "output_type": "stream",
     "text": [
      "Optimizing CBPS...:  90%|█████████ | 9021/10000 [01:24<00:09, 106.38it/s]"
     ]
    },
    {
     "name": "stdout",
     "output_type": "stream",
     "text": [
      "Iteration 9000: loss = 5.122570514678955\n"
     ]
    },
    {
     "name": "stderr",
     "output_type": "stream",
     "text": [
      "Optimizing CBPS...:  91%|█████████ | 9120/10000 [01:25<00:08, 106.44it/s]"
     ]
    },
    {
     "name": "stdout",
     "output_type": "stream",
     "text": [
      "Iteration 9100: loss = 5.109128475189209\n"
     ]
    },
    {
     "name": "stderr",
     "output_type": "stream",
     "text": [
      "Optimizing CBPS...:  92%|█████████▏| 9219/10000 [01:26<00:07, 106.39it/s]"
     ]
    },
    {
     "name": "stdout",
     "output_type": "stream",
     "text": [
      "Iteration 9200: loss = 5.095752716064453\n"
     ]
    },
    {
     "name": "stderr",
     "output_type": "stream",
     "text": [
      "Optimizing CBPS...:  93%|█████████▎| 9318/10000 [01:27<00:06, 106.58it/s]"
     ]
    },
    {
     "name": "stdout",
     "output_type": "stream",
     "text": [
      "Iteration 9300: loss = 5.082458972930908\n"
     ]
    },
    {
     "name": "stderr",
     "output_type": "stream",
     "text": [
      "Optimizing CBPS...:  94%|█████████▍| 9417/10000 [01:28<00:05, 106.32it/s]"
     ]
    },
    {
     "name": "stdout",
     "output_type": "stream",
     "text": [
      "Iteration 9400: loss = 5.069253444671631\n"
     ]
    },
    {
     "name": "stderr",
     "output_type": "stream",
     "text": [
      "Optimizing CBPS...:  95%|█████████▌| 9516/10000 [01:29<00:04, 106.45it/s]"
     ]
    },
    {
     "name": "stdout",
     "output_type": "stream",
     "text": [
      "Iteration 9500: loss = 5.056141376495361\n"
     ]
    },
    {
     "name": "stderr",
     "output_type": "stream",
     "text": [
      "Optimizing CBPS...:  96%|█████████▌| 9615/10000 [01:30<00:03, 106.30it/s]"
     ]
    },
    {
     "name": "stdout",
     "output_type": "stream",
     "text": [
      "Iteration 9600: loss = 5.04312801361084\n"
     ]
    },
    {
     "name": "stderr",
     "output_type": "stream",
     "text": [
      "Optimizing CBPS...:  97%|█████████▋| 9714/10000 [01:31<00:02, 106.30it/s]"
     ]
    },
    {
     "name": "stdout",
     "output_type": "stream",
     "text": [
      "Iteration 9700: loss = 5.030220985412598\n"
     ]
    },
    {
     "name": "stderr",
     "output_type": "stream",
     "text": [
      "Optimizing CBPS...:  98%|█████████▊| 9813/10000 [01:32<00:01, 106.42it/s]"
     ]
    },
    {
     "name": "stdout",
     "output_type": "stream",
     "text": [
      "Iteration 9800: loss = 5.017427444458008\n"
     ]
    },
    {
     "name": "stderr",
     "output_type": "stream",
     "text": [
      "Optimizing CBPS...:  99%|█████████▉| 9912/10000 [01:33<00:00, 106.39it/s]"
     ]
    },
    {
     "name": "stdout",
     "output_type": "stream",
     "text": [
      "Iteration 9900: loss = 5.004751682281494\n"
     ]
    },
    {
     "name": "stderr",
     "output_type": "stream",
     "text": [
      "Optimizing CBPS...: 100%|██████████| 10000/10000 [01:33<00:00, 106.46it/s]\n"
     ]
    }
   ],
   "source": [
    "from src.cbps_torch import CBPS\n",
    "\n",
    "cbps = CBPS(\n",
    "    X=X,\n",
    "    W=w,\n",
    "    estimand=\"ATT\",\n",
    "    intercept=True,\n",
    "    noi=True,\n",
    "    niter=10_000,\n",
    "    lr=1e-5,\n",
    "    reg=1e-5,\n",
    "    svd=None,\n",
    ")\n",
    "weights = cbps.weights(numpy=True)"
   ]
  },
  {
   "cell_type": "code",
   "execution_count": 60,
   "metadata": {},
   "outputs": [
    {
     "data": {
      "text/plain": [
       "(205448,)"
      ]
     },
     "execution_count": 60,
     "metadata": {},
     "output_type": "execute_result"
    }
   ],
   "source": [
    "weights.shape"
   ]
  }
 ],
 "metadata": {
  "kernelspec": {
   "display_name": "prescribed",
   "language": "python",
   "name": "python3"
  },
  "language_info": {
   "codemirror_mode": {
    "name": "ipython",
    "version": 3
   },
   "file_extension": ".py",
   "mimetype": "text/x-python",
   "name": "python",
   "nbconvert_exporter": "python",
   "pygments_lexer": "ipython3",
   "version": "3.10.13"
  }
 },
 "nbformat": 4,
 "nbformat_minor": 2
}
