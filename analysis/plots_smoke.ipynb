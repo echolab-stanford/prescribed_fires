{
 "cells": [
  {
   "cell_type": "markdown",
   "metadata": {},
   "source": [
    "# Smoke PM and Severity/Intensity"
   ]
  },
  {
   "cell_type": "code",
   "execution_count": 1,
   "metadata": {},
   "outputs": [],
   "source": [
    "import geopandas as gpd\n",
    "import matplotlib.pyplot as plt\n",
    "import numpy as np\n",
    "import pandas as pd\n",
    "import seaborn as sns\n",
    "from prescribed.utils import prepare_template"
   ]
  },
  {
   "cell_type": "code",
   "execution_count": 2,
   "metadata": {},
   "outputs": [],
   "source": [
    "mtbs = gpd.read_file(\n",
    "    \"/mnt/sherlock/oak/prescribed_data/geoms/mtbs_perims_DD_updated/mtbs_perims_DD.shp\"\n",
    ")\n",
    "\n",
    "mtbs_ca = mtbs[mtbs.Event_ID.str.startswith(\"CA\")].to_crs(3310)\n",
    "mtbs_ca[\"Ig_Date\"] = pd.to_datetime(mtbs_ca.Ig_Date)\n",
    "mtbs_ca[\"year\"] = mtbs_ca.Ig_Date.dt.year"
   ]
  },
  {
   "cell_type": "code",
   "execution_count": 3,
   "metadata": {},
   "outputs": [],
   "source": [
    "# Load data from templates\n",
    "template = (\n",
    "    prepare_template(\"/mnt/sherlock/oak/prescribed_data/geoms/templates/template.tif\")\n",
    "    .groupby(\"grid_id\", as_index=False)\n",
    "    .first()\n",
    "    .drop(columns=[\"year\"])\n",
    ")\n",
    "\n",
    "# Load land type\n",
    "land_type = pd.read_feather(\n",
    "    \"/mnt/sherlock/oak/prescribed_data/processed/land_type/land_type.feather\"\n",
    ").drop(columns=[\"spatial_ref\", \"lat\", \"lon\"], errors=\"ignore\")\n",
    "\n",
    "# Load smoke linked to fire events\n",
    "smoke_pm = pd.read_feather(\n",
    "    \"/mnt/sherlock/oak/prescribed_data/processed/smoke_linking/smoke_pm_fire_event.feather\"\n",
    ")\n",
    "\n",
    "# Get treatments according to template\n",
    "treatments = (\n",
    "    pd.read_feather(\n",
    "        \"/mnt/sherlock/oak/prescribed_data/processed/treatments_mtbs.feather\"\n",
    "    )\n",
    "    .dropna(subset=[\"Event_ID\"])\n",
    "    .drop(columns=[\"spatial_ref\"])\n",
    "    .merge(template, on=[\"lat\", \"lon\"], how=\"left\")\n",
    ")\n",
    "treatments = treatments[treatments.Event_ID.isin(smoke_pm.Event_ID.tolist())]\n",
    "\n",
    "# Load severity\n",
    "severity = pd.read_feather(\n",
    "    \"/mnt/sherlock/oak/prescribed_data/processed/dnbr_gee_inmediate/dnbr_long.feather\"\n",
    ").drop(columns=[\"spatial_ref\", \"lat\", \"lon\"], errors=\"ignore\")\n",
    "\n",
    "# Down-code dnbr to be zero if negative\n",
    "severity.loc[severity.dnbr < 0, \"dnbr\"] = 0"
   ]
  },
  {
   "cell_type": "code",
   "execution_count": 4,
   "metadata": {},
   "outputs": [],
   "source": [
    "conditions = [\n",
    "    (severity.dnbr < 100),\n",
    "    (severity.dnbr >= 100) & (severity.dnbr < 270),\n",
    "    (severity.dnbr >= 270) & (severity.dnbr < 440),\n",
    "    (severity.dnbr >= 440) & (severity.dnbr < 660),\n",
    "    severity.dnbr >= 660,\n",
    "]\n",
    "choices = [0, 1, 2, 3, 4]\n",
    "\n",
    "# Asigning FRP class to each fire\n",
    "severity.loc[:, \"class_dnbr\"] = np.select(conditions, choices, default=np.nan)"
   ]
  },
  {
   "cell_type": "code",
   "execution_count": 5,
   "metadata": {},
   "outputs": [],
   "source": [
    "# Get count of class_dnbr countrs by each event id and the total of rows per event\n",
    "severity_agg = (\n",
    "    severity.groupby([\"event_id\", \"class_dnbr\"])\n",
    "    .size()\n",
    "    .unstack()\n",
    "    .reset_index()\n",
    "    .fillna(0)\n",
    ")\n",
    "severity_agg[\"class_total\"] = severity_agg.iloc[:, 1:].sum(axis=1)\n",
    "severity_agg.columns = [\n",
    "    f\"class_{int(col)}\" if isinstance(col, float) else col\n",
    "    for col in severity_agg.columns\n",
    "]\n",
    "\n",
    "# Calculate shares per class and add Event_ID back\n",
    "severity_agg_class = severity_agg.filter(regex=\"class_*\").apply(\n",
    "    lambda x: x / x[\"class_total\"], axis=1\n",
    ")\n",
    "severity_agg_class[\"event_id\"] = severity_agg[\"event_id\"]"
   ]
  },
  {
   "cell_type": "code",
   "execution_count": 6,
   "metadata": {},
   "outputs": [],
   "source": [
    "# Get most common land type for each event\n",
    "event_land_type = (\n",
    "    land_type.merge(treatments, on=\"grid_id\", how=\"left\")\n",
    "    .dropna()\n",
    "    .groupby(\"Event_ID\", as_index=False)\n",
    "    .land_type.agg(lambda x: x.value_counts().index[0])\n",
    ")\n",
    "event_land_type[\"land_type\"] = event_land_type.land_type.astype(int).astype(str)\n",
    "\n",
    "# Calculate mean dnbr per event and merge with smoke PM\n",
    "mean_dnbr = severity.groupby(\"event_id\", as_index=False).dnbr.mean()\n",
    "mean_dnbr = (mean_dnbr\n",
    "             .merge(smoke_pm, \n",
    "                    left_on=\"event_id\", \n",
    "                    right_on=\"Event_ID\", \n",
    "                    how=\"inner\")\n",
    "            .merge(event_land_type, on=\"Event_ID\", how=\"inner\")\n",
    "            .merge(severity_agg_class, left_on=\"event_id\", right_on=\"event_id\", how=\"inner\")\n",
    ")"
   ]
  },
  {
   "cell_type": "code",
   "execution_count": 24,
   "metadata": {},
   "outputs": [],
   "source": [
    "mtbs_land_type_year = event_land_type.merge(mtbs_ca[[\"Event_ID\", \"year\"]], on=\"Event_ID\", how=\"inner\").land_type.value_counts()"
   ]
  },
  {
   "cell_type": "code",
   "execution_count": 26,
   "metadata": {},
   "outputs": [
    {
     "data": {
      "text/plain": [
       "0.45652173913043476"
      ]
     },
     "execution_count": 26,
     "metadata": {},
     "output_type": "execute_result"
    }
   ],
   "source": [
    "231 / mtbs_land_type_year.sum()"
   ]
  },
  {
   "cell_type": "code",
   "execution_count": 25,
   "metadata": {},
   "outputs": [
    {
     "data": {
      "text/plain": [
       "land_type\n",
       "12    231\n",
       "2     208\n",
       "3      34\n",
       "5      21\n",
       "8       7\n",
       "4       2\n",
       "1       1\n",
       "11      1\n",
       "13      1\n",
       "Name: count, dtype: int64"
      ]
     },
     "execution_count": 25,
     "metadata": {},
     "output_type": "execute_result"
    }
   ],
   "source": [
    "mtbs_land_type_year"
   ]
  },
  {
   "cell_type": "code",
   "execution_count": 7,
   "metadata": {},
   "outputs": [
    {
     "data": {
      "text/plain": [
       "<matplotlib.legend.Legend at 0x7ff99759f7c0>"
      ]
     },
     "execution_count": 7,
     "metadata": {},
     "output_type": "execute_result"
    },
    {
     "data": {
      "image/png": "[encoded data removed]",
      "text/plain": [
       "<Figure size 1000x800 with 1 Axes>"
      ]
     },
     "metadata": {},
     "output_type": "display_data"
    }
   ],
   "source": [
    "fig, ax = plt.subplots(figsize = (10, 8))\n",
    "\n",
    "land_classes = {\"2\": \"Conifer\" , \"12\": \"Shrubland\"}\n",
    "\n",
    "for lc, lc_name in land_classes.items():\n",
    "    \n",
    "    data = mean_dnbr[mean_dnbr.land_type == lc]\n",
    "\n",
    "    sns.regplot(x=\"dnbr\", \n",
    "                y=\"sum_contrib\",\n",
    "    data=data[(data.dnbr <= 270)],\n",
    "    robust=True,\n",
    "    ax=ax,\n",
    "    label=lc_name)\n",
    "\n",
    "ax.legend()"
   ]
  },
  {
   "cell_type": "code",
   "execution_count": 13,
   "metadata": {},
   "outputs": [
    {
     "name": "stderr",
     "output_type": "stream",
     "text": [
      "  0%|          | 0/24 [00:00<?, ?it/s]"
     ]
    },
    {
     "name": "stderr",
     "output_type": "stream",
     "text": [
      "100%|██████████| 24/24 [14:36<00:00, 36.54s/it]\n"
     ]
    }
   ],
   "source": [
    "import os\n",
    "from pathlib import Path\n",
    "\n",
    "import xarray as xr\n",
    "from tqdm import tqdm\n",
    "\n",
    "data_proc = \"/mnt/sherlock/oak/prescribed_data/processed/\"\n",
    "files_frp = list(Path(f\"{data_proc}/frp\").glob(\"*.nc4\"))\n",
    "save_path = \"/mnt/sherlock/oak/prescribed_data/processed/frp/frp_parquet\"\n",
    "Path(save_path).mkdir(parents=True, exist_ok=True)\n",
    "\n",
    "for file in tqdm(files_frp):\n",
    "    frp = xr.open_dataset(file)\n",
    "    ds = frp.to_dataframe().reset_index().dropna()\n",
    "    ds = ds.drop(columns=[\"spatial_ref\"], errors=\"ignore\")\n",
    "    \n",
    "    ds = ds.merge(template, on=[\"lat\", \"lon\"], how=\"left\")\n",
    "    ds.to_parquet(os.path.join(save_path, f\"{file.stem}.parquet\"))"
   ]
  },
  {
   "cell_type": "code",
   "execution_count": 14,
   "metadata": {},
   "outputs": [
    {
     "data": {
      "text/html": [
       "<div>\n",
       "<style scoped>\n",
       "    .dataframe tbody tr th:only-of-type {\n",
       "        vertical-align: middle;\n",
       "    }\n",
       "\n",
       "    .dataframe tbody tr th {\n",
       "        vertical-align: top;\n",
       "    }\n",
       "\n",
       "    .dataframe thead th {\n",
       "        text-align: right;\n",
       "    }\n",
       "</style>\n",
       "<table border=\"1\" class=\"dataframe\">\n",
       "  <thead>\n",
       "    <tr style=\"text-align: right;\">\n",
       "      <th></th>\n",
       "      <th>time</th>\n",
       "      <th>lat</th>\n",
       "      <th>lon</th>\n",
       "      <th>frp</th>\n",
       "      <th>grid_id</th>\n",
       "    </tr>\n",
       "  </thead>\n",
       "  <tbody>\n",
       "    <tr>\n",
       "      <th>0</th>\n",
       "      <td>2000-11-01</td>\n",
       "      <td>48152.596997</td>\n",
       "      <td>-33913.82085</td>\n",
       "      <td>11.3</td>\n",
       "      <td>368572.0</td>\n",
       "    </tr>\n",
       "    <tr>\n",
       "      <th>1</th>\n",
       "      <td>2000-11-02</td>\n",
       "      <td>315152.596997</td>\n",
       "      <td>-107913.82085</td>\n",
       "      <td>12.5</td>\n",
       "      <td>123926.0</td>\n",
       "    </tr>\n",
       "    <tr>\n",
       "      <th>2</th>\n",
       "      <td>2000-11-02</td>\n",
       "      <td>154152.596997</td>\n",
       "      <td>-106913.82085</td>\n",
       "      <td>11.3</td>\n",
       "      <td>271403.0</td>\n",
       "    </tr>\n",
       "    <tr>\n",
       "      <th>3</th>\n",
       "      <td>2000-11-02</td>\n",
       "      <td>117152.596997</td>\n",
       "      <td>-227913.82085</td>\n",
       "      <td>47.9</td>\n",
       "      <td>305174.0</td>\n",
       "    </tr>\n",
       "    <tr>\n",
       "      <th>4</th>\n",
       "      <td>2000-11-02</td>\n",
       "      <td>117152.596997</td>\n",
       "      <td>-226913.82085</td>\n",
       "      <td>93.6</td>\n",
       "      <td>305175.0</td>\n",
       "    </tr>\n",
       "    <tr>\n",
       "      <th>...</th>\n",
       "      <td>...</td>\n",
       "      <td>...</td>\n",
       "      <td>...</td>\n",
       "      <td>...</td>\n",
       "      <td>...</td>\n",
       "    </tr>\n",
       "    <tr>\n",
       "      <th>448</th>\n",
       "      <td>2000-12-27</td>\n",
       "      <td>-585847.403003</td>\n",
       "      <td>431086.17915</td>\n",
       "      <td>6.1</td>\n",
       "      <td>NaN</td>\n",
       "    </tr>\n",
       "    <tr>\n",
       "      <th>449</th>\n",
       "      <td>2000-12-29</td>\n",
       "      <td>-432847.403003</td>\n",
       "      <td>228086.17915</td>\n",
       "      <td>4.2</td>\n",
       "      <td>809430.0</td>\n",
       "    </tr>\n",
       "    <tr>\n",
       "      <th>450</th>\n",
       "      <td>2000-12-29</td>\n",
       "      <td>-471847.403003</td>\n",
       "      <td>288086.17915</td>\n",
       "      <td>5.7</td>\n",
       "      <td>845214.0</td>\n",
       "    </tr>\n",
       "    <tr>\n",
       "      <th>451</th>\n",
       "      <td>2000-12-30</td>\n",
       "      <td>114152.596997</td>\n",
       "      <td>-202913.82085</td>\n",
       "      <td>14.2</td>\n",
       "      <td>307947.0</td>\n",
       "    </tr>\n",
       "    <tr>\n",
       "      <th>452</th>\n",
       "      <td>2000-12-30</td>\n",
       "      <td>114152.596997</td>\n",
       "      <td>-201913.82085</td>\n",
       "      <td>5.3</td>\n",
       "      <td>307948.0</td>\n",
       "    </tr>\n",
       "  </tbody>\n",
       "</table>\n",
       "<p>453 rows × 5 columns</p>\n",
       "</div>"
      ],
      "text/plain": [
       "          time            lat           lon   frp   grid_id\n",
       "0   2000-11-01   48152.596997  -33913.82085  11.3  368572.0\n",
       "1   2000-11-02  315152.596997 -107913.82085  12.5  123926.0\n",
       "2   2000-11-02  154152.596997 -106913.82085  11.3  271403.0\n",
       "3   2000-11-02  117152.596997 -227913.82085  47.9  305174.0\n",
       "4   2000-11-02  117152.596997 -226913.82085  93.6  305175.0\n",
       "..         ...            ...           ...   ...       ...\n",
       "448 2000-12-27 -585847.403003  431086.17915   6.1       NaN\n",
       "449 2000-12-29 -432847.403003  228086.17915   4.2  809430.0\n",
       "450 2000-12-29 -471847.403003  288086.17915   5.7  845214.0\n",
       "451 2000-12-30  114152.596997 -202913.82085  14.2  307947.0\n",
       "452 2000-12-30  114152.596997 -201913.82085   5.3  307948.0\n",
       "\n",
       "[453 rows x 5 columns]"
      ]
     },
     "execution_count": 14,
     "metadata": {},
     "output_type": "execute_result"
    }
   ],
   "source": [
    "pd.read_parquet(\"/mnt/sherlock/oak/prescribed_data/processed/frp/frp_parquet/frp_modis_firms_2000.parquet\")"
   ]
  },
  {
   "cell_type": "code",
   "execution_count": null,
   "metadata": {},
   "outputs": [],
   "source": []
  }
 ],
 "metadata": {
  "kernelspec": {
   "display_name": "prescribed",
   "language": "python",
   "name": "python3"
  },
  "language_info": {
   "codemirror_mode": {
    "name": "ipython",
    "version": 3
   },
   "file_extension": ".py",
   "mimetype": "text/x-python",
   "name": "python",
   "nbconvert_exporter": "python",
   "pygments_lexer": "ipython3",
   "version": "3.10.13"
  }
 },
 "nbformat": 4,
 "nbformat_minor": 2
}
